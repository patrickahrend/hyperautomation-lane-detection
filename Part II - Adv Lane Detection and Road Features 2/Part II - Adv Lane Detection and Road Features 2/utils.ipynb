{
 "cells": [
  {
   "cell_type": "code",
   "execution_count": 6,
   "metadata": {},
   "outputs": [],
   "source": [
    "import pandas as pd \n",
    "import numpy as np\n",
    "import matplotlib.pyplot as plt\n",
    "import csv \n",
    "import seaborn as sns \n"
   ]
  },
  {
   "attachments": {},
   "cell_type": "markdown",
   "metadata": {},
   "source": [
    "## Plotting of KPIs"
   ]
  },
  {
   "cell_type": "code",
   "execution_count": null,
   "metadata": {},
   "outputs": [],
   "source": [
    "# csv is designed in the following way:\n",
    "#frame TP     FP     TN     FN\n",
    "# we calculate the accuracy by dividing the TP by the sum of TP, FP, FN"
   ]
  },
  {
   "cell_type": "code",
   "execution_count": 89,
   "metadata": {},
   "outputs": [],
   "source": [
    "def calculate_accuracy(tp, fp, fn):\n",
    "    return round(tp / (fp + tp + fn), 2)"
   ]
  },
  {
   "cell_type": "code",
   "execution_count": 91,
   "metadata": {},
   "outputs": [],
   "source": [
    "def plot_accuracy_over_time(df,path,video_name):\n",
    "    # Read data from the CSV file\n",
    "\n",
    "    # Calculate accuracy for each row\n",
    "    df['accuracy'] = df.apply(lambda x: calculate_accuracy(x[1], x[2], x[4]), axis=1)\n",
    "    \n",
    "    # Add labels and title to the plot\n",
    "    df.plot(x=0, y='accuracy', kind='line')\n",
    "    plt.xlabel('Frame')\n",
    "    plt.ylabel('Accuracy')\n",
    "    plt.title('Accuracy Over Time')\n",
    "    plt.legend()\n",
    "\n",
    "    # Save the plot to a PNG file\n",
    "    plt.savefig(f'./result_plots/{path}/{video_name}.png',facecolor='w', edgecolor='w')\n",
    "\n",
    "    # Show the plot\n",
    "    plt.show()"
   ]
  },
  {
   "cell_type": "code",
   "execution_count": 75,
   "metadata": {},
   "outputs": [],
   "source": [
    "videos= [\n",
    "#  'Busan_2',\n",
    "#  'Istanbul_2',\n",
    "#  'Istanbul_3',\n",
    "#  'Istanbul_Bridge',\n",
    "#  'Los Angeles',\n",
    "#  'Norway_ferry',\n",
    "#  'Norway',\n",
    "#  'Sariyer',\n",
    "#  'Seattle',\n",
    "#  'Toronto',\n",
    "\n",
    "#  'Chicago',\n",
    "#  'Moscow',\n",
    "\n",
    "#  'Vaduz',\n",
    "#  'Zurich',\n",
    " 'Tokyo Curved Right',\n",
    "#  'Red_Curve_Tokyo',\n",
    "\n",
    "]"
   ]
  },
  {
   "cell_type": "code",
   "execution_count": 97,
   "metadata": {},
   "outputs": [
    {
     "data": {
      "image/png": "[encoded data removed]",
      "text/plain": [
       "<Figure size 432x288 with 1 Axes>"
      ]
     },
     "metadata": {
      "needs_background": "light"
     },
     "output_type": "display_data"
    }
   ],
   "source": [
    "for video in videos:\n",
    "    df = pd.read_csv(f\"./hyperautomation_simplified/KPI/{video}.csv\",  header=None)\n",
    "    split_indices = df.index[df[0] == 0].tolist()\n",
    "    split_indices.append(df.index[-1])\n",
    "    df_list = [df.iloc[i:j,:] for i, j in zip(split_indices, split_indices[1:])]\n",
    "\n",
    "    # Save each dataframe to a separate CSV file\n",
    "    for runs, df in enumerate(df_list):\n",
    "        plot_accuracy_over_time(df,\"Simplified\", f'Simplified - {video} - Run {runs}')"
   ]
  },
  {
   "attachments": {},
   "cell_type": "markdown",
   "metadata": {},
   "source": [
    "## KPI Aggregation "
   ]
  },
  {
   "cell_type": "code",
   "execution_count": null,
   "metadata": {},
   "outputs": [],
   "source": [
    "# get total "
   ]
  },
  {
   "cell_type": "code",
   "execution_count": 82,
   "metadata": {},
   "outputs": [],
   "source": [
    "def calculate_accuracy(tp, fp,  fn):\n",
    "    return round(tp / (fp + tp + fn), 2)"
   ]
  },
  {
   "cell_type": "code",
   "execution_count": null,
   "metadata": {},
   "outputs": [],
   "source": [
    "# num of frames per video \n",
    "# accuracy per frame / num of frames "
   ]
  },
  {
   "cell_type": "code",
   "execution_count": 137,
   "metadata": {},
   "outputs": [],
   "source": [
    "videos= [\n",
    " 'Busan_2',\n",
    " 'Istanbul_2',\n",
    " 'Istanbul_3',\n",
    " 'Istanbul_Bridge',\n",
    " 'Los Angeles',\n",
    " 'Norway_ferry',\n",
    " 'Norway',\n",
    " 'Sariyer',\n",
    " 'Seattle',\n",
    " 'Toronto',\n",
    "\n",
    "#  'Chicago',\n",
    "#  'Moscow',\n",
    "\n",
    "#  'Vaduz',\n",
    "#  'Zurich',\n",
    "#  'Tokyo Curved Right',\n",
    "#  'Red_Curve_Tokyo',\n",
    "\n",
    "]"
   ]
  },
  {
   "cell_type": "code",
   "execution_count": 81,
   "metadata": {},
   "outputs": [],
   "source": [
    "def get_accuracy(path,videos):\n",
    "    accuracy = []\n",
    "    frames = 0\n",
    "    for video in videos:\n",
    "      df = pd.read_csv(f\"./{path}/{video}.csv\",  header=None)\n",
    "      df['accuracy'] = df.apply(lambda x: calculate_accuracy(x[1], x[2], x[4]), axis=1)\n",
    "      accuracy.append((video,df['accuracy'].mean()))\n",
    "      frames += df.shape[0]\n",
    "    return accuracy, frames\n"
   ]
  },
  {
   "cell_type": "code",
   "execution_count": 16,
   "metadata": {},
   "outputs": [],
   "source": [
    "def get_aggregate_accuracy(accuracy):\n",
    "   total_acc= sum(item[1] for item in accuracy) / len(accuracy)\n",
    "   total_acc = round((total_acc * 100), 2)\n",
    "   \n",
    "   return total_acc "
   ]
  },
  {
   "cell_type": "code",
   "execution_count": 23,
   "metadata": {},
   "outputs": [
    {
     "data": {
      "text/plain": [
       "[('Busan_2', 0.8500829875518673),\n",
       " ('Istanbul_2', 0.6553784860557769),\n",
       " ('Istanbul_3', 0.7539442231075698),\n",
       " ('Istanbul_Bridge', 0.6259760956175299),\n",
       " ('Los Angeles', 0.6005),\n",
       " ('Norway_ferry', 0.40820717131474105),\n",
       " ('Norway', 0.5036065573770493),\n",
       " ('Sariyer', 0.4111836734693878),\n",
       " ('Seattle', 0.5357081545064378),\n",
       " ('Toronto', 0.7544078947368421)]"
      ]
     },
     "execution_count": 23,
     "metadata": {},
     "output_type": "execute_result"
    }
   ],
   "source": [
    "balance_accuracy, frames_general = get_accuracy(\"baseline_KPIs\",videos)\n",
    "balance_accuracy"
   ]
  },
  {
   "cell_type": "code",
   "execution_count": 24,
   "metadata": {},
   "outputs": [
    {
     "data": {
      "text/plain": [
       "10"
      ]
     },
     "execution_count": 24,
     "metadata": {},
     "output_type": "execute_result"
    }
   ],
   "source": [
    "len(balance_accuracy)"
   ]
  },
  {
   "cell_type": "code",
   "execution_count": 25,
   "metadata": {},
   "outputs": [
    {
     "name": "stdout",
     "output_type": "stream",
     "text": [
      "Total Accuracy: 60.99\n"
     ]
    }
   ],
   "source": [
    "print(f\"Total Accuracy: {get_aggregate_accuracy(balance_accuracy)}\")"
   ]
  },
  {
   "cell_type": "code",
   "execution_count": 26,
   "metadata": {},
   "outputs": [
    {
     "data": {
      "text/plain": [
       "0.6098995243737202"
      ]
     },
     "execution_count": 26,
     "metadata": {},
     "output_type": "execute_result"
    }
   ],
   "source": [
    "aggregate_accuracy = sum(item[1] for item in balance_accuracy) / len(balance_accuracy)\n",
    "aggregate_accuracy"
   ]
  },
  {
   "cell_type": "code",
   "execution_count": 27,
   "metadata": {},
   "outputs": [
    {
     "data": {
      "text/plain": [
       "[('Busan_2', 0.9694954128440368),\n",
       " ('Istanbul_2', 0.000796812749003984),\n",
       " ('Istanbul_3', 0.6374501992031872),\n",
       " ('Istanbul_Bridge', 0.9695238095238095),\n",
       " ('Los Angeles', 0.007576923076923077),\n",
       " ('Norway_ferry', 0.5375),\n",
       " ('Norway', 0.6437295081967214),\n",
       " ('Sariyer', 0.4111836734693878),\n",
       " ('Seattle', 0.8460085836909869),\n",
       " ('Toronto', 0.29914473684210524)]"
      ]
     },
     "execution_count": 27,
     "metadata": {},
     "output_type": "execute_result"
    }
   ],
   "source": [
    "hyper_accuracy, frames_general = get_accuracy(\"hyperautomation_KPIs-used\",videos)\n",
    "hyper_accuracy\n"
   ]
  },
  {
   "cell_type": "code",
   "execution_count": 210,
   "metadata": {},
   "outputs": [
    {
     "data": {
      "text/plain": [
       "3713"
      ]
     },
     "execution_count": 210,
     "metadata": {},
     "output_type": "execute_result"
    }
   ],
   "source": [
    "frames_general"
   ]
  },
  {
   "cell_type": "code",
   "execution_count": 181,
   "metadata": {},
   "outputs": [
    {
     "name": "stdout",
     "output_type": "stream",
     "text": [
      "Total Accuracy: 46.52 %\n"
     ]
    }
   ],
   "source": [
    "print(f\"Total Accuracy: {get_aggregate_accuracy(hyper_accuracy)}\")"
   ]
  },
  {
   "cell_type": "code",
   "execution_count": 216,
   "metadata": {},
   "outputs": [
    {
     "data": {
      "image/png": "[encoded data removed]",
      "text/plain": [
       "<Figure size 432x288 with 1 Axes>"
      ]
     },
     "metadata": {
      "needs_background": "light"
     },
     "output_type": "display_data"
    }
   ],
   "source": [
    "names, values = zip(*balance_accuracy)\n",
    " \n",
    " \n",
    "plt.bar(names, values)\n",
    "plt.xlabel('Obversations')\n",
    "plt.ylabel('Accuracy')\n",
    "plt.xticks(rotation=90)\n",
    "plt.show()\n"
   ]
  },
  {
   "cell_type": "code",
   "execution_count": 218,
   "metadata": {},
   "outputs": [
    {
     "data": {
      "image/png": "[encoded data removed]",
      "text/plain": [
       "<Figure size 432x288 with 1 Axes>"
      ]
     },
     "metadata": {
      "needs_background": "light"
     },
     "output_type": "display_data"
    }
   ],
   "source": [
    "names, values = zip(*hyper_accuracy)\n",
    " \n",
    " \n",
    "plt.bar(names, values)\n",
    "plt.xlabel('Obversations')\n",
    "plt.ylabel('Accuracy')\n",
    "plt.xticks(rotation=90)\n",
    "plt.show()"
   ]
  },
  {
   "attachments": {},
   "cell_type": "markdown",
   "metadata": {},
   "source": [
    "## For paper"
   ]
  },
  {
   "cell_type": "code",
   "execution_count": 183,
   "metadata": {},
   "outputs": [],
   "source": [
    "# straight \n",
    "# curved \n",
    "straight = [ 'Chicago',\n",
    " 'Istanbul_2',\n",
    " 'Istanbul_Bridge',\n",
    " 'Los Angeles',\n",
    " 'Moscow',\n",
    " 'Seattle',\n",
    " 'Busan_2',\n",
    " 'Toronto']\n",
    "curve = [ 'Istanbul_3',\n",
    " 'Norway',\n",
    " 'Vaduz',\n",
    " 'Zurich',\n",
    " 'Tokyo Curved Right',\n",
    " 'Red_Curve_Tokyo']\n"
   ]
  },
  {
   "cell_type": "code",
   "execution_count": 212,
   "metadata": {},
   "outputs": [
    {
     "data": {
      "text/plain": [
       "8"
      ]
     },
     "execution_count": 212,
     "metadata": {},
     "output_type": "execute_result"
    }
   ],
   "source": [
    "len(straight)"
   ]
  },
  {
   "cell_type": "code",
   "execution_count": 200,
   "metadata": {},
   "outputs": [
    {
     "data": {
      "text/plain": [
       "[('Chicago', 0.5435915492957746),\n",
       " ('Istanbul_2', 0.6553784860557769),\n",
       " ('Istanbul_Bridge', 0.6259760956175299),\n",
       " ('Los Angeles', 0.6005),\n",
       " ('Moscow', 0.8866112956810631),\n",
       " ('Seattle', 0.5357081545064378),\n",
       " ('Busan_2', 0.8500829875518673),\n",
       " ('Toronto', 0.7544078947368421)]"
      ]
     },
     "execution_count": 200,
     "metadata": {},
     "output_type": "execute_result"
    }
   ],
   "source": [
    "balance_accuracy_straight, frames_straight = get_accuracy(\"baseline_KPIs\",straight)\n",
    "balance_accuracy_straight"
   ]
  },
  {
   "cell_type": "code",
   "execution_count": 201,
   "metadata": {},
   "outputs": [
    {
     "data": {
      "text/plain": [
       "2125"
      ]
     },
     "execution_count": 201,
     "metadata": {},
     "output_type": "execute_result"
    }
   ],
   "source": [
    "frames_straight"
   ]
  },
  {
   "cell_type": "code",
   "execution_count": 202,
   "metadata": {},
   "outputs": [
    {
     "data": {
      "text/plain": [
       "[('Chicago', 0.12873239436619718),\n",
       " ('Istanbul_2', 0.000796812749003984),\n",
       " ('Istanbul_Bridge', 0.9695238095238095),\n",
       " ('Los Angeles', 0.007576923076923077),\n",
       " ('Moscow', 0.8866112956810631),\n",
       " ('Seattle', 0.8460085836909869),\n",
       " ('Busan_2', 0.9694954128440368),\n",
       " ('Toronto', 0.29914473684210524)]"
      ]
     },
     "execution_count": 202,
     "metadata": {},
     "output_type": "execute_result"
    }
   ],
   "source": [
    "hyper_accuracy_straight, frames_straight = get_accuracy(\"hyperautomation_KPIs-used\",straight)\n",
    "hyper_accuracy_straight\n"
   ]
  },
  {
   "cell_type": "code",
   "execution_count": 203,
   "metadata": {},
   "outputs": [
    {
     "data": {
      "text/plain": [
       "2103"
      ]
     },
     "execution_count": 203,
     "metadata": {},
     "output_type": "execute_result"
    }
   ],
   "source": [
    "frames_straight"
   ]
  },
  {
   "cell_type": "code",
   "execution_count": 204,
   "metadata": {},
   "outputs": [
    {
     "name": "stdout",
     "output_type": "stream",
     "text": [
      "Total Accuracy Baseline: 68.15\n",
      "Total Accuracy Hyper: 51.35\n"
     ]
    }
   ],
   "source": [
    "print(f\"Total Accuracy Baseline: {get_aggregate_accuracy(balance_accuracy_straight)}\")\n",
    "print(f\"Total Accuracy Hyper: {get_aggregate_accuracy(hyper_accuracy_straight)}\")"
   ]
  },
  {
   "cell_type": "code",
   "execution_count": 193,
   "metadata": {},
   "outputs": [
    {
     "data": {
      "image/png": "[encoded data removed]",
      "text/plain": [
       "<Figure size 432x288 with 1 Axes>"
      ]
     },
     "metadata": {
      "needs_background": "light"
     },
     "output_type": "display_data"
    }
   ],
   "source": [
    "names, values = zip(*balance_accuracy_straight)\n",
    " \n",
    " \n",
    "plt.bar(names, values)\n",
    "plt.xlabel('Name')\n",
    "plt.ylabel('Accuracy')\n",
    "plt.xticks(rotation=90)\n",
    "plt.show()"
   ]
  },
  {
   "cell_type": "code",
   "execution_count": 194,
   "metadata": {},
   "outputs": [
    {
     "data": {
      "image/png": "[encoded data removed]",
      "text/plain": [
       "<Figure size 432x288 with 1 Axes>"
      ]
     },
     "metadata": {
      "needs_background": "light"
     },
     "output_type": "display_data"
    }
   ],
   "source": [
    "names, values = zip(*hyper_accuracy_straight)\n",
    " \n",
    " \n",
    "plt.bar(names, values)\n",
    "plt.xlabel('Name')\n",
    "plt.ylabel('Accuracy')\n",
    "plt.xticks(rotation=90)\n",
    "plt.show()"
   ]
  },
  {
   "cell_type": "code",
   "execution_count": 205,
   "metadata": {},
   "outputs": [
    {
     "data": {
      "text/plain": [
       "[('Istanbul_3', 0.7539442231075698),\n",
       " ('Norway', 0.5036065573770493),\n",
       " ('Vaduz', 0.6471323529411765),\n",
       " ('Zurich', 0.7144813278008298),\n",
       " ('Tokyo Curved Right', 0.4811627906976745),\n",
       " ('Red_Curve_Tokyo', 0.7212624584717608)]"
      ]
     },
     "execution_count": 205,
     "metadata": {},
     "output_type": "execute_result"
    }
   ],
   "source": [
    "baseline_curve, frames_curve = get_accuracy(\"baseline_KPIs\",curve)\n",
    "baseline_curve"
   ]
  },
  {
   "cell_type": "code",
   "execution_count": 206,
   "metadata": {},
   "outputs": [
    {
     "data": {
      "text/plain": [
       "1610"
      ]
     },
     "execution_count": 206,
     "metadata": {},
     "output_type": "execute_result"
    }
   ],
   "source": [
    "frames_curve"
   ]
  },
  {
   "cell_type": "code",
   "execution_count": 207,
   "metadata": {},
   "outputs": [
    {
     "data": {
      "text/plain": [
       "[('Istanbul_3', 0.6374501992031872),\n",
       " ('Norway', 0.6437295081967214),\n",
       " ('Vaduz', 0.16040441176470588),\n",
       " ('Zurich', 0.29294605809128627),\n",
       " ('Tokyo Curved Right', 0.3744518272425249),\n",
       " ('Red_Curve_Tokyo', 0.2961794019933555)]"
      ]
     },
     "execution_count": 207,
     "metadata": {},
     "output_type": "execute_result"
    }
   ],
   "source": [
    "hyper_accuracy_curve, frames_curve = get_accuracy(\"hyperautomation_KPIs-used\",curve)\n",
    "hyper_accuracy_curve"
   ]
  },
  {
   "cell_type": "code",
   "execution_count": 208,
   "metadata": {},
   "outputs": [
    {
     "data": {
      "text/plain": [
       "1610"
      ]
     },
     "execution_count": 208,
     "metadata": {},
     "output_type": "execute_result"
    }
   ],
   "source": [
    "frames_curve"
   ]
  },
  {
   "cell_type": "code",
   "execution_count": 158,
   "metadata": {},
   "outputs": [],
   "source": [
    "aggregate_accuracy_balance = sum(item[1] for item in baseline_curve) / len(baseline_curve)\n",
    "aggregate_accuracy_hyper = sum(item[1] for item in hyper_accuracy_curve) / len(hyper_accuracy_curve)"
   ]
  },
  {
   "cell_type": "code",
   "execution_count": 195,
   "metadata": {},
   "outputs": [
    {
     "name": "stdout",
     "output_type": "stream",
     "text": [
      "Total Accuracy Baseline: 63.69\n",
      "Total Accuracy Hyper: 40.09\n"
     ]
    }
   ],
   "source": [
    "print(f\"Total Accuracy Baseline: {get_aggregate_accuracy(baseline_curve)}\")\n",
    "print(f\"Total Accuracy Hyper: {get_aggregate_accuracy(hyper_accuracy_curve)}\")"
   ]
  },
  {
   "cell_type": "code",
   "execution_count": 214,
   "metadata": {},
   "outputs": [
    {
     "data": {
      "image/png": "[encoded data removed]",
      "text/plain": [
       "<Figure size 432x288 with 1 Axes>"
      ]
     },
     "metadata": {
      "needs_background": "light"
     },
     "output_type": "display_data"
    }
   ],
   "source": [
    "names, values = zip(*baseline_curve)\n",
    " \n",
    " \n",
    "plt.bar(names, values)\n",
    "plt.xlabel('Name')\n",
    "plt.ylabel('Accuracy')\n",
    "plt.xticks(rotation=90)\n",
    "plt.show()"
   ]
  },
  {
   "cell_type": "code",
   "execution_count": 215,
   "metadata": {},
   "outputs": [
    {
     "data": {
      "image/png": "[encoded data removed]",
      "text/plain": [
       "<Figure size 432x288 with 1 Axes>"
      ]
     },
     "metadata": {
      "needs_background": "light"
     },
     "output_type": "display_data"
    }
   ],
   "source": [
    "names, values = zip(*hyper_accuracy_curve)\n",
    " \n",
    " \n",
    "plt.bar(names, values)\n",
    "plt.xlabel('Name')\n",
    "plt.ylabel('Accuracy')\n",
    "plt.xticks(rotation=90)\n",
    "plt.show()"
   ]
  },
  {
   "cell_type": "code",
   "execution_count": 220,
   "metadata": {},
   "outputs": [],
   "source": [
    "los_angelos= [\n",
    " 'Los Angeles'\n",
    "]"
   ]
  },
  {
   "cell_type": "code",
   "execution_count": 222,
   "metadata": {},
   "outputs": [
    {
     "data": {
      "text/plain": [
       "[('Los Angeles', 0.007576923076923077)]"
      ]
     },
     "execution_count": 222,
     "metadata": {},
     "output_type": "execute_result"
    }
   ],
   "source": [
    "hyperautomated_normal_frame, _ = get_accuracy(\"hyperautomation_KPIs-used\",los_angelos)\n",
    "hyperautomated_normal_frame"
   ]
  },
  {
   "cell_type": "code",
   "execution_count": null,
   "metadata": {},
   "outputs": [],
   "source": [
    "hyperautomated_choosen_frame, _ = get_accuracy(\"hyperautomation_KPIs-used\",los_angelos)\n",
    "\n"
   ]
  },
  {
   "attachments": {},
   "cell_type": "markdown",
   "metadata": {},
   "source": [
    "-----"
   ]
  },
  {
   "attachments": {},
   "cell_type": "markdown",
   "metadata": {},
   "source": [
    "## Simplified "
   ]
  },
  {
   "cell_type": "code",
   "execution_count": 98,
   "metadata": {},
   "outputs": [],
   "source": [
    "videos= [\n",
    " 'Busan_2',\n",
    " 'Istanbul_2',\n",
    " 'Istanbul_3',\n",
    " 'Istanbul_Bridge',\n",
    " 'Los Angeles',\n",
    " 'Norway_ferry',\n",
    " 'Norway',\n",
    " 'Sariyer',\n",
    " 'Seattle',\n",
    " 'Toronto',\n",
    "  'Tokyo Curved Right',\n",
    "\n",
    "#  'Chicago',\n",
    "#  'Moscow',\n",
    "\n",
    "#  'Vaduz',\n",
    "#  'Zurich',\n",
    "#  'Tokyo Curved Right',\n",
    "#  'Red_Curve_Tokyo',\n",
    "\n",
    "]"
   ]
  },
  {
   "cell_type": "code",
   "execution_count": 99,
   "metadata": {},
   "outputs": [
    {
     "data": {
      "text/plain": [
       "11"
      ]
     },
     "execution_count": 99,
     "metadata": {},
     "output_type": "execute_result"
    }
   ],
   "source": [
    "len(videos)"
   ]
  },
  {
   "cell_type": "code",
   "execution_count": 100,
   "metadata": {},
   "outputs": [
    {
     "data": {
      "text/plain": [
       "[('Busan_2', 0.9361825726141076),\n",
       " ('Istanbul_2', 0.8850996015936254),\n",
       " ('Istanbul_3', 0.5510358565737052),\n",
       " ('Istanbul_Bridge', 0.9464940239043824),\n",
       " ('Los Angeles', 0.956576923076923),\n",
       " ('Norway_ferry', 0.6796812749003984),\n",
       " ('Norway', 0.7571311475409837),\n",
       " ('Sariyer', 0.8997222222222221),\n",
       " ('Seattle', 0.9181545064377681),\n",
       " ('Toronto', 0.9712171052631579),\n",
       " ('Tokyo Curved Right', 0.5029900332225915)]"
      ]
     },
     "execution_count": 100,
     "metadata": {},
     "output_type": "execute_result"
    }
   ],
   "source": [
    "simplified, frames_simplfied = get_accuracy(\"./hyperautomation_simplified/KPI/\",videos)\n",
    "simplified"
   ]
  },
  {
   "cell_type": "code",
   "execution_count": 101,
   "metadata": {},
   "outputs": [
    {
     "data": {
      "text/plain": [
       "2695"
      ]
     },
     "execution_count": 101,
     "metadata": {},
     "output_type": "execute_result"
    }
   ],
   "source": [
    "frames_simplfied"
   ]
  },
  {
   "cell_type": "code",
   "execution_count": 102,
   "metadata": {},
   "outputs": [
    {
     "name": "stdout",
     "output_type": "stream",
     "text": [
      "Total Accuracy Simplified: 81.86\n"
     ]
    }
   ],
   "source": [
    "print(f\"Total Accuracy Simplified: {get_aggregate_accuracy(simplified)}\")"
   ]
  },
  {
   "cell_type": "code",
   "execution_count": 103,
   "metadata": {},
   "outputs": [],
   "source": [
    "simplified_curve = [ 'Istanbul_3','Norway','Sariyer', 'Tokyo Curved Right']\n",
    "simplified_straight = [ 'Busan_2','Istanbul_2','Istanbul_Bridge','Los Angeles','Norway_ferry','Seattle','Toronto']"
   ]
  },
  {
   "cell_type": "code",
   "execution_count": 104,
   "metadata": {},
   "outputs": [
    {
     "data": {
      "text/plain": [
       "[('Istanbul_3', 0.5510358565737052),\n",
       " ('Norway', 0.7571311475409837),\n",
       " ('Sariyer', 0.8997222222222221),\n",
       " ('Tokyo Curved Right', 0.5029900332225915)]"
      ]
     },
     "execution_count": 104,
     "metadata": {},
     "output_type": "execute_result"
    }
   ],
   "source": [
    "simplified_curve_agg, frames_simplfied_curve = get_accuracy(\"./hyperautomation_simplified/KPI/\",simplified_curve)\n",
    "simplified_curve_agg"
   ]
  },
  {
   "cell_type": "code",
   "execution_count": 107,
   "metadata": {},
   "outputs": [
    {
     "data": {
      "text/plain": [
       "904"
      ]
     },
     "execution_count": 107,
     "metadata": {},
     "output_type": "execute_result"
    }
   ],
   "source": [
    "frames_simplfied_curve\n",
    "\n"
   ]
  },
  {
   "cell_type": "code",
   "execution_count": 108,
   "metadata": {},
   "outputs": [
    {
     "name": "stdout",
     "output_type": "stream",
     "text": [
      "Total Accuracy Simplified-Curved: 67.77\n"
     ]
    }
   ],
   "source": [
    "print(f\"Total Accuracy Simplified-Curved: {get_aggregate_accuracy(simplified_curve_agg)}\")"
   ]
  },
  {
   "cell_type": "code",
   "execution_count": 109,
   "metadata": {},
   "outputs": [
    {
     "data": {
      "text/plain": [
       "[('Busan_2', 0.9361825726141076),\n",
       " ('Istanbul_2', 0.8850996015936254),\n",
       " ('Istanbul_Bridge', 0.9464940239043824),\n",
       " ('Los Angeles', 0.956576923076923),\n",
       " ('Norway_ferry', 0.6796812749003984),\n",
       " ('Seattle', 0.9181545064377681),\n",
       " ('Toronto', 0.9712171052631579)]"
      ]
     },
     "execution_count": 109,
     "metadata": {},
     "output_type": "execute_result"
    }
   ],
   "source": [
    "simplified_straight_agg, frames_simplfied_straight = get_accuracy(\"./hyperautomation_simplified/KPI/\",simplified_straight)\n",
    "simplified_straight_agg"
   ]
  },
  {
   "cell_type": "code",
   "execution_count": 110,
   "metadata": {},
   "outputs": [
    {
     "data": {
      "text/plain": [
       "1791"
      ]
     },
     "execution_count": 110,
     "metadata": {},
     "output_type": "execute_result"
    }
   ],
   "source": [
    "frames_simplfied_straight"
   ]
  },
  {
   "cell_type": "code",
   "execution_count": 111,
   "metadata": {},
   "outputs": [
    {
     "name": "stdout",
     "output_type": "stream",
     "text": [
      "Total Accuracy Simplified-Straight: 89.91\n"
     ]
    }
   ],
   "source": [
    "print(f\"Total Accuracy Simplified-Straight: {get_aggregate_accuracy(simplified_straight_agg)}\")"
   ]
  }
 ],
 "metadata": {
  "kernelspec": {
   "display_name": "Python 3",
   "language": "python",
   "name": "python3"
  },
  "language_info": {
   "codemirror_mode": {
    "name": "ipython",
    "version": 3
   },
   "file_extension": ".py",
   "mimetype": "text/x-python",
   "name": "python",
   "nbconvert_exporter": "python",
   "pygments_lexer": "ipython3",
   "version": "3.9.12"
  },
  "orig_nbformat": 4,
  "vscode": {
   "interpreter": {
    "hash": "d3ddb9a339dcfec66cb1d066e0234a99f8d679773fa71ee722ae52c5be71efea"
   }
  }
 },
 "nbformat": 4,
 "nbformat_minor": 2
}
