{
 "cells": [
  {
   "cell_type": "markdown",
   "metadata": {},
   "source": [
    "# Advanced Lane Line Detection Using OpenCV\n",
    "### Galen Ballew, March 2017\n",
    "---"
   ]
  },
  {
   "cell_type": "markdown",
   "metadata": {},
   "source": [
    "This notebook provides a robust solution to lane line detection and tracking for self driving cars. The steps are as listed:\n",
    "\n",
    "1. Camera Calibration  \n",
    "2. Distortion Correction   \n",
    "3. Gradient and Color Thresholding   \n",
    "4. Perspective Transform   \n",
    "5. Lane Line Search & Search Optimization\n",
    "6. Drawing the lane overlay"
   ]
  },
  {
   "cell_type": "code",
   "execution_count": null,
   "metadata": {},
   "outputs": [],
   "source": [
    "import numpy as np\n",
    "import pandas as pd\n",
    "import cv2 as cv\n",
    "import matplotlib.pyplot as plt\n",
    "import matplotlib.image as mpimg\n",
    "from IPython.display import Image\n",
    "from moviepy.editor import VideoFileClip\n",
    "from IPython.display import HTML\n",
    "import pickle\n",
    "import io\n",
    "import os\n",
    "import glob\n",
    "%matplotlib inline"
   ]
  },
  {
   "cell_type": "markdown",
   "metadata": {},
   "source": [
    "Let's take a look at a sample calibration image."
   ]
  },
  {
   "cell_type": "code",
   "execution_count": null,
   "metadata": {},
   "outputs": [],
   "source": [
    "images = glob.glob('camera_cal/calibration*.jpg')"
   ]
  },
  {
   "cell_type": "markdown",
   "metadata": {},
   "source": [
    "Note: Make sure you use the correct grayscale conversion depending on how you've read in your images. Use cv2.COLOR_RGB2GRAY if you've read in an image using mpimg.imread(). Use cv2.COLOR_BGR2GRAY if you've read in an image using cv2.imread()."
   ]
  },
  {
   "cell_type": "code",
   "execution_count": null,
   "metadata": {},
   "outputs": [],
   "source": [
    "img = mpimg.imread(images[0])\n",
    "plt.imshow(img);"
   ]
  },
  {
   "cell_type": "markdown",
   "metadata": {},
   "source": [
    "### Camera Calibration"
   ]
  },
  {
   "cell_type": "markdown",
   "metadata": {
    "collapsed": true
   },
   "source": [
    "We need to store the number of *object points*, or locations of interest on the chessboard. Only points that are not on the outermost edge are considered. For this board, there are 9 columns on the X-axis and 6 rows on the 7 axis. We will want a list of (x, y, z) coordinates for each combination (i.e. unique location on the board). Every z-value will be zero since it is a 2D image."
   ]
  },
  {
   "cell_type": "code",
   "execution_count": null,
   "metadata": {},
   "outputs": [],
   "source": [
    "# store chessboard coordinates\n",
    "chess_points = []\n",
    "# store points from transformed img\n",
    "image_points = []"
   ]
  },
  {
   "cell_type": "code",
   "execution_count": null,
   "metadata": {},
   "outputs": [],
   "source": [
    "# board is 6 rows by 9 columns. each item is one (xyz) point \n",
    "# remember, only care about inside points. that is why board is 9x6, not 10x7\n",
    "chess_point = np.zeros((9*6, 3), np.float32)\n",
    "# z stays zero. set xy to grid values\n",
    "chess_point[:,:2] = np.mgrid[0:9, 0:6].T.reshape(-1,2)"
   ]
  },
  {
   "cell_type": "code",
   "execution_count": null,
   "metadata": {},
   "outputs": [],
   "source": [
    "for image in images:\n",
    "    \n",
    "    img = mpimg.imread(image)\n",
    "    # convert to grayscale\n",
    "    gray = cv.cvtColor(img, cv.COLOR_RGB2GRAY)\n",
    "    \n",
    "    # returns boolean and coordinates\n",
    "    success, corners = cv.findChessboardCorners(gray, (9,6), None)\n",
    "    \n",
    "    if success:\n",
    "        image_points.append(corners)\n",
    "        #these will all be the same since it's the same board\n",
    "        chess_points.append(chess_point)\n",
    "    else:\n",
    "        print('corners not found {}'.format(image))\n",
    "        "
   ]
  },
  {
   "cell_type": "code",
   "execution_count": null,
   "metadata": {},
   "outputs": [],
   "source": [
    "image = mpimg.imread('./camera_cal/calibration2.jpg')\n",
    "\n",
    "plt.figure();\n",
    "f, (ax1, ax2) = plt.subplots(1, 2, figsize=(20,10));\n",
    "ax1.imshow(image);\n",
    "ax1.set_title('Captured Image', fontsize=30);\n",
    "\n",
    "gray = cv.cvtColor(image, cv.COLOR_RGB2GRAY) \n",
    "ret , corners = cv.findChessboardCorners(gray,(9,6),None)    \n",
    "if ret == False:\n",
    "    print('corners not found')\n",
    "img1 = cv.drawChessboardCorners(image,(9,6),corners,ret) \n",
    "\n",
    "ax2.imshow(img1);\n",
    "ax2.set_title('Corners drawn Image', fontsize=30);\n",
    "plt.tight_layout();\n",
    "plt.savefig('saved_figures/chess_corners.png');\n",
    "plt.show;"
   ]
  },
  {
   "cell_type": "code",
   "execution_count": null,
   "metadata": {},
   "outputs": [],
   "source": [
    "# Save everything!\n",
    "# points_pkl = {}\n",
    "# points_pkl[\"chesspoints\"] = chess_points\n",
    "# points_pkl[\"imagepoints\"] = image_points\n",
    "# points_pkl[\"imagesize\"] = (img.shape[1], img.shape[0])\n",
    "# pickle.dump(points_pkl,open(\"object_and_image_points.pkl\", \"wb\" ))"
   ]
  },
  {
   "cell_type": "markdown",
   "metadata": {},
   "source": [
    "Huzzah! OpenCV successfully mapped the corners. The next step will be to use this mapping to correct for the  distortion that occurs at the edges of a camera lens."
   ]
  },
  {
   "cell_type": "markdown",
   "metadata": {},
   "source": [
    "---"
   ]
  },
  {
   "cell_type": "markdown",
   "metadata": {},
   "source": [
    "### Distortion Correction"
   ]
  },
  {
   "cell_type": "code",
   "execution_count": null,
   "metadata": {},
   "outputs": [],
   "source": [
    "points_pickle = pickle.load( open( \"object_and_image_points.pkl\", \"rb\" ) )\n",
    "chess_points = points_pickle[\"chesspoints\"]\n",
    "image_points = points_pickle[\"imagepoints\"]\n",
    "img_size = points_pickle[\"imagesize\"]"
   ]
  },
  {
   "cell_type": "code",
   "execution_count": null,
   "metadata": {},
   "outputs": [],
   "source": [
    "ret, mtx, dist, rvecs, tvecs = cv.calibrateCamera(chess_points, image_points, img_size, None, None)"
   ]
  },
  {
   "cell_type": "code",
   "execution_count": null,
   "metadata": {},
   "outputs": [],
   "source": [
    "# camera = {}\n",
    "# camera[\"mtx\"] = mtx\n",
    "# camera[\"dist\"] = dist\n",
    "# camera[\"imagesize\"] = img_size\n",
    "# pickle.dump(camera, open(\"camera_matrix.pkl\", \"wb\"))"
   ]
  },
  {
   "cell_type": "code",
   "execution_count": null,
   "metadata": {},
   "outputs": [],
   "source": [
    "def distort_correct(img,mtx,dist,camera_img_size):\n",
    "    img_size1 = (img.shape[1],img.shape[0])\n",
    "    #print(img_size1)\n",
    "    #print(camera_img_size)\n",
    "    assert (img_size1 == camera_img_size),'image size is not compatible'\n",
    "    undist = cv.undistort(img, mtx, dist, None, mtx)\n",
    "    return undist"
   ]
  },
  {
   "cell_type": "code",
   "execution_count": null,
   "metadata": {},
   "outputs": [],
   "source": [
    "img = mpimg.imread('./camera_cal/calibration2.jpg')\n",
    "img_size1 = (img.shape[1], img.shape[0])\n",
    "\n",
    "undist = distort_correct(img, mtx, dist, img_size)\n",
    "\n",
    "### Visualize the captured \n",
    "plt.figure()\n",
    "f, (ax1, ax2) = plt.subplots(1, 2, figsize=(20,10));\n",
    "ax1.imshow(img);\n",
    "ax1.set_title('Captured Image', fontsize=30);\n",
    "ax2.imshow(undist);\n",
    "ax2.set_title('Undistorted Image', fontsize=30);\n",
    "plt.tight_layout()\n",
    "plt.savefig('saved_figures/undistorted_chess.png')"
   ]
  },
  {
   "cell_type": "markdown",
   "metadata": {
    "collapsed": true
   },
   "source": [
    "It's subtle, but the size of the chess squares are accurate even at the edge of the image. "
   ]
  },
  {
   "cell_type": "markdown",
   "metadata": {},
   "source": [
    "---"
   ]
  },
  {
   "cell_type": "markdown",
   "metadata": {},
   "source": [
    "### Gradient & Color Thresholding"
   ]
  },
  {
   "cell_type": "markdown",
   "metadata": {
    "collapsed": true
   },
   "source": [
    "For this project we will be using several filters to generate a binary (black & white) image that we can detect and track the lane lines with. \n",
    "\n",
    "* Sobel gradients in the x & y directions\n",
    "* Gradient magnitude\n",
    "* Gradient direction\n",
    "* Color space transform and filtering"
   ]
  },
  {
   "cell_type": "code",
   "execution_count": null,
   "metadata": {},
   "outputs": [],
   "source": [
    "# load camera matrix and distortion matrix\n",
    "camera = pickle.load(open( \"camera_matrix.pkl\", \"rb\" ))\n",
    "mtx = camera['mtx']\n",
    "dist = camera['dist']\n",
    "camera_img_size = camera['imagesize']"
   ]
  },
  {
   "cell_type": "code",
   "execution_count": null,
   "metadata": {},
   "outputs": [],
   "source": [
    "# get an undistorted dashcam frame\n",
    "image = mpimg.imread('./test_images_UNUSED/straight_lines2.jpg')\n",
    "image = distort_correct(image,mtx,dist,camera_img_size)\n",
    "plt.imshow(image);"
   ]
  },
  {
   "cell_type": "markdown",
   "metadata": {
    "collapsed": true
   },
   "source": [
    "#### Sobel gradients\n",
    "Canny Edge Detection combines the sobel gradient for both x and y. By breaking it apart into its components, we can produced a refined version of Canny edge detection. "
   ]
  },
  {
   "cell_type": "code",
   "execution_count": null,
   "metadata": {},
   "outputs": [],
   "source": [
    "def abs_sobel_thresh(img, orient='x', thresh=(0,255)):\n",
    "    # Convert to grayscale\n",
    "    gray = cv.cvtColor(img, cv.COLOR_RGB2GRAY)\n",
    "    # Apply x or y gradient with the OpenCV Sobel() function\n",
    "    # and take the absolute value\n",
    "    if orient == 'x':\n",
    "        abs_sobel = np.absolute(cv.Sobel(gray, cv.CV_64F, 1, 0))\n",
    "    if orient == 'y':\n",
    "        abs_sobel = np.absolute(cv.Sobel(gray, cv.CV_64F, 0, 1))\n",
    "    # Rescale back to 8 bit integer\n",
    "    scaled_sobel = np.uint8(255*abs_sobel/np.max(abs_sobel))\n",
    "    # Create a copy and apply the threshold\n",
    "    binary_output = np.zeros_like(scaled_sobel)\n",
    "    # Here I'm using inclusive (>=, <=) thresholds, but exclusive is ok too\n",
    "    binary_output[(scaled_sobel >= thresh[0]) & (scaled_sobel <= thresh[1])] = 1\n",
    "\n",
    "    # Return the result\n",
    "    return binary_output"
   ]
  },
  {
   "cell_type": "code",
   "execution_count": null,
   "metadata": {},
   "outputs": [],
   "source": [
    "# set color map to gray, default is RGB\n",
    "plt.imshow(abs_sobel_thresh(image, thresh=(20,150)),  cmap='gray');\n",
    "\n",
    "#FELIX: DEFAULT THRESH (20,110) -> lower bound increases lightness needed to show in the processed image. \n",
    "#FELIX: Below 5 artifacts are introduces -> minimize lower bound so lanes show clearly but do not introduce artifacts"
   ]
  },
  {
   "cell_type": "markdown",
   "metadata": {},
   "source": [
    "#### Gradient Magnitude\n",
    "The function below will filter based on a min/max magnitude for the gradient. This function is looking at the combined xy gradient, but it could be altered to filter on the magnitude in a single direction, or some linear combination of the two. "
   ]
  },
  {
   "cell_type": "code",
   "execution_count": null,
   "metadata": {},
   "outputs": [],
   "source": [
    "def mag_threshold(img, sobel_kernel=3, thresh=(0, 255)):\n",
    "    # 1) Convert to grayscale\n",
    "    gray = cv.cvtColor(img, cv.COLOR_RGB2GRAY)\n",
    "    # 2) Take the gradient in x and y separately\n",
    "    x = cv.Sobel(gray, cv.CV_64F, 1, 0, ksize=sobel_kernel)\n",
    "    y = cv.Sobel(gray, cv.CV_64F, 0, 1, ksize=sobel_kernel)\n",
    "    # 3) Calculate the xy magnitude \n",
    "    mag = np.sqrt(x**2 + y**2)\n",
    "    # 4) Scale to 8-bit (0 - 255) and convert to type = np.uint8\n",
    "    scale = np.max(mag)/255\n",
    "    eightbit = (mag/scale).astype(np.uint8)\n",
    "    # 5) Create a binary mask where mag thresholds are met\n",
    "    binary_output = np.zeros_like(eightbit)\n",
    "    binary_output[(eightbit > thresh[0]) & (eightbit < thresh[1])] =1 \n",
    "    return binary_output"
   ]
  },
  {
   "cell_type": "code",
   "execution_count": null,
   "metadata": {},
   "outputs": [],
   "source": [
    "plt.imshow(mag_threshold(image, thresh=(10,100)),  cmap='gray');\n",
    "\n",
    "#FELIX: default thresh(20,100) -> same as above"
   ]
  },
  {
   "cell_type": "markdown",
   "metadata": {},
   "source": [
    "#### Gradient Direction\n",
    "This function will filter based on the direction of the gradient. For lane detection, we will be interested in vertical lines that are +/- some threshold near $\\frac{\\pi}{2}$"
   ]
  },
  {
   "cell_type": "code",
   "execution_count": null,
   "metadata": {},
   "outputs": [],
   "source": [
    "def dir_threshold(img, sobel_kernel=3, thresh=(0, np.pi/2)):\n",
    "    # 1) Convert to grayscale\n",
    "    gray = cv.cvtColor(img, cv.COLOR_RGB2GRAY)\n",
    "    # 2) Take the gradient in x and y separately\n",
    "    x = np.absolute(cv.Sobel(gray, cv.CV_64F, 1, 0, ksize=sobel_kernel))\n",
    "    y = np.absolute(cv.Sobel(gray, cv.CV_64F, 0, 1, ksize=sobel_kernel))\n",
    "    # 4) Use np.arctan2(abs_sobely, abs_sobelx) to calculate the direction of the gradient \n",
    "    direction = np.arctan2(y, x)\n",
    "    binary_output = np.zeros_like(direction)\n",
    "    binary_output[(direction > thresh[0]) & (direction < thresh[1])] = 1\n",
    "    return binary_output"
   ]
  },
  {
   "cell_type": "code",
   "execution_count": null,
   "metadata": {},
   "outputs": [],
   "source": [
    "plt.imshow(dir_threshold(image, thresh=(0.1,1.2)),  cmap='gray');\n",
    "#FELIX: default thresh(0.8, 1.2)"
   ]
  },
  {
   "cell_type": "markdown",
   "metadata": {},
   "source": [
    "#### Saturation Channel & Red Channel Filters\n",
    "The gradient filters above all convert the original image into grayscale and a lot of useful information is lost. Lane lines are either yellow or white, and we can use that to our advantage trying to locate and track them. The **H**ue **S**aturation **L**ightness color space will help. In particular, the S channel of an HSL image retains a lot information about lane lines - especially when there are shadows on the road. The Red channel of RGB also does a good job of creating binary images of lane lines. "
   ]
  },
  {
   "cell_type": "code",
   "execution_count": null,
   "metadata": {},
   "outputs": [],
   "source": [
    "def hls_select(img, sthresh=(0, 255),lthresh=()):\n",
    "    # 1) Convert to HLS color space\n",
    "    hls_img = cv.cvtColor(img, cv.COLOR_RGB2HLS)\n",
    "    # 2) Apply a threshold to the S channel\n",
    "    L = hls_img[:,:,1]\n",
    "    S = hls_img[:,:,2]\n",
    "    # 3) Return a binary image of threshold result\n",
    "    binary_output = np.zeros_like(S)\n",
    "    binary_output[(S >= sthresh[0]) & (S <= sthresh[1])\n",
    "                 & (L > lthresh[0]) & (L <= lthresh[1])] = 1\n",
    "    return binary_output"
   ]
  },
  {
   "cell_type": "code",
   "execution_count": null,
   "metadata": {
    "scrolled": true
   },
   "outputs": [],
   "source": [
    "plt.imshow(hls_select(image, sthresh=(0,50), lthresh=(80, 110)),  cmap='gray');\n",
    "\n",
    "#FELIX: default: sthresh(140,255), lthresh=(140,255)"
   ]
  },
  {
   "cell_type": "code",
   "execution_count": null,
   "metadata": {},
   "outputs": [],
   "source": [
    "def red_select(img, thresh=(0, 255)):\n",
    "    # Apply a threshold to the R channel\n",
    "    R = img[:,:,0]\n",
    "    # Return a binary image of threshold result\n",
    "    binary_output = np.zeros_like(R)\n",
    "    binary_output[(R > thresh[0]) & (R <= thresh[1])] = 1\n",
    "    return binary_output"
   ]
  },
  {
   "cell_type": "code",
   "execution_count": null,
   "metadata": {},
   "outputs": [],
   "source": [
    "plt.imshow(red_select(image, thresh=(70,100)),  cmap='gray');\n",
    "#FELIX: default thresh(200,255)"
   ]
  },
  {
   "cell_type": "markdown",
   "metadata": {},
   "source": [
    "### Combining Filter Methods\n",
    "We can now mix and match different filter methods, each with unique threshold values, to get a refined binary image."
   ]
  },
  {
   "cell_type": "code",
   "execution_count": null,
   "metadata": {},
   "outputs": [],
   "source": [
    "def binary_pipeline(img):\n",
    "    \n",
    "    img_copy = cv.GaussianBlur(img, (3, 3), 0)\n",
    "    #img_copy = np.copy(img)\n",
    "    \n",
    "    # color channels\n",
    "    s_binary = hls_select(img_copy, sthresh=(140, 255), lthresh=(120, 255))\n",
    "    #red_binary = red_select(img_copy, thresh=(200,255))\n",
    "    \n",
    "    # Sobel x\n",
    "    x_binary = abs_sobel_thresh(img_copy,thresh=(25, 200))\n",
    "    y_binary = abs_sobel_thresh(img_copy,thresh=(25, 200), orient='y')\n",
    "    #Patrick default: thresh=(25,200) für beide -> lower bound increases lightness needed to show in the processed image.\n",
    "    \n",
    "    xy = cv.bitwise_and(x_binary, y_binary)\n",
    "    \n",
    "    #magnitude & direction\n",
    "    mag_binary = mag_threshold(img_copy, sobel_kernel=3, thresh=(30,100))\n",
    "    #Patrick tresh(30,100)\n",
    "    dir_binary = dir_threshold(img_copy, sobel_kernel=3, thresh=(0.8, 1.2))\n",
    "    #Patrick thresh(0.8, 1.2)\n",
    "    \n",
    "    # Stack each channel\n",
    "    gradient = np.zeros_like(s_binary)\n",
    "    gradient[((x_binary == 1) & (y_binary == 1)) | ((mag_binary == 1) & (dir_binary == 1))] = 1\n",
    "    final_binary = cv.bitwise_or(s_binary, gradient)\n",
    "    \n",
    "    return final_binary"
   ]
  },
  {
   "cell_type": "markdown",
   "metadata": {},
   "source": [
    "I tested numerous bitwise combinations of many different filters. They all produced different results regarding the image as a whole, but this combination did the best job of retaining the information of the yellow lane line - especially as it gets further away and under shadows.\n",
    "\n",
    "I have left in all of the other filters because they may prove useful in different lighting conditions. More test images are needed - especially night time images! "
   ]
  },
  {
   "cell_type": "markdown",
   "metadata": {},
   "source": [
    "### Combined Filter"
   ]
  },
  {
   "cell_type": "code",
   "execution_count": null,
   "metadata": {},
   "outputs": [],
   "source": [
    "result = binary_pipeline(image)\n",
    "\n",
    "# Plot the result\n",
    "plt.figure()\n",
    "f, (ax1, ax2) = plt.subplots(1, 2, figsize=(24, 9))\n",
    "f.tight_layout()\n",
    "\n",
    "ax1.imshow(image)\n",
    "ax1.set_title('Original Image', fontsize=40)\n",
    "\n",
    "ax2.imshow(result, cmap='gray')\n",
    "ax2.set_title('Pipeline Result', fontsize=40)\n",
    "plt.subplots_adjust(left=0., right=1, top=0.9, bottom=0.)\n",
    "plt.tight_layout()\n",
    "plt.savefig('saved_figures/combined_filters.png')"
   ]
  },
  {
   "cell_type": "markdown",
   "metadata": {},
   "source": [
    "Looks pretty good! It doesn't capture the yellow lane line in the distance as well as I would like. It clearly loses that information under shadow cast by the tree."
   ]
  },
  {
   "cell_type": "code",
   "execution_count": null,
   "metadata": {},
   "outputs": [],
   "source": [
    "# get an undistorted dashcam frame\n",
    "image = mpimg.imread('./test_images_UNUSED/straight_lines2.jpg')\n",
    "image = distort_correct(image,mtx,dist,camera_img_size)\n",
    "plt.imshow(image)"
   ]
  },
  {
   "cell_type": "code",
   "execution_count": null,
   "metadata": {},
   "outputs": [],
   "source": [
    "result = binary_pipeline(image)\n",
    "\n",
    "# Plot the result\n",
    "f, (ax1, ax2) = plt.subplots(1, 2, figsize=(24, 9))\n",
    "f.tight_layout()\n",
    "\n",
    "ax1.imshow(image)\n",
    "ax1.set_title('Original Image', fontsize=40)\n",
    "\n",
    "ax2.imshow(result, cmap='gray')\n",
    "ax2.set_title('Pipeline Result', fontsize=40)\n",
    "plt.subplots_adjust(left=0., right=1, top=0.9, bottom=0.)"
   ]
  },
  {
   "cell_type": "markdown",
   "metadata": {},
   "source": [
    "We can see here the pipeline does a much better job of resolving lines underneath shadows when they are closer/bigger to the camera. However, it is still not perfect."
   ]
  },
  {
   "cell_type": "markdown",
   "metadata": {},
   "source": [
    "---"
   ]
  },
  {
   "cell_type": "markdown",
   "metadata": {},
   "source": [
    "### Perspective transform"
   ]
  },
  {
   "cell_type": "code",
   "execution_count": null,
   "metadata": {},
   "outputs": [],
   "source": [
    "def warp_image(img):\n",
    "    \n",
    "    image_size = (img.shape[1], img.shape[0])\n",
    "    x = img.shape[1]\n",
    "    y = img.shape[0]\n",
    "\n",
    "    #the \"order\" of points in the polygon you are defining does not matter\n",
    "    #but they need to match the corresponding points in destination_points!\n",
    "    source_points = np.float32([\n",
    "        [250, 640],\n",
    " [631, 390],\n",
    " [649, 390],\n",
    " [1020, 640]\n",
    "    ])\n",
    " \n",
    "\n",
    "#     #chicago footage\n",
    "#     source_points = np.float32([\n",
    "#                 [300, 720],\n",
    "#                 [500, 600],\n",
    "#                 [700, 600],\n",
    "#                 [850, 720]\n",
    "#                 ])\n",
    "    \n",
    "#     destination_points = np.float32([\n",
    "#                 [200, 720],\n",
    "#                 [200, 200],\n",
    "#                 [1000, 200],\n",
    "#                 [1000, 720]\n",
    "#                 ])\n",
    "    \n",
    "    destination_points = np.float32([\n",
    "    [0.25 * x, y],\n",
    "    [0.25 * x, 0],\n",
    "    [x - (0.25 * x), 0],\n",
    "    [x - (0.25 * x), y]\n",
    "    ])\n",
    "    print(destination_points)\n",
    "    \n",
    "    perspective_transform = cv.getPerspectiveTransform(source_points, destination_points)\n",
    "    inverse_perspective_transform = cv.getPerspectiveTransform( destination_points, source_points)\n",
    "    \n",
    "    warped_img = cv.warpPerspective(img, perspective_transform, image_size, flags=cv.INTER_LINEAR)\n",
    "    \n",
    "    #print(source_points)\n",
    "    #print(destination_points)\n",
    "    \n",
    "    return warped_img, inverse_perspective_transform"
   ]
  },
  {
   "cell_type": "code",
   "execution_count": null,
   "metadata": {},
   "outputs": [],
   "source": [
    "birdseye_result, inverse_perspective_transform = warp_image(result)\n",
    "\n",
    "# Plot the result\n",
    "plt.figure()\n",
    "f, (ax1, ax2) = plt.subplots(1, 2, figsize=(24, 9))\n",
    "f.tight_layout()\n",
    "\n",
    "\n",
    "image_size = (image.shape[1], image.shape[0])\n",
    "x = image.shape[1]\n",
    "y = image.shape[0]\n",
    "source_points = np.int32([\n",
    "[250, 640],\n",
    " [631, 390],\n",
    " [649, 390],\n",
    " [1020, 640]\n",
    "                    ])\n",
    "\n",
    "        \n",
    "print(source_points)\n",
    "\n",
    "draw_poly = cv.polylines(image,[source_points],True,(255,0,0), 5)\n",
    "\n",
    "ax1.imshow(draw_poly)\n",
    "ax1.set_title('Source', fontsize=40)\n",
    "ax2.imshow(birdseye_result, cmap='gray')\n",
    "ax2.set_title('Destination', fontsize=40)\n",
    "plt.subplots_adjust(left=0., right=1, top=0.9, bottom=0.)\n",
    "plt.tight_layout()\n",
    "plt.savefig('saved_figures/perspective_transform.png')"
   ]
  },
  {
   "cell_type": "code",
   "execution_count": null,
   "metadata": {},
   "outputs": [],
   "source": [
    "# reload the image for later use\n",
    "image = mpimg.imread('test_images_UNUSED/straight_lines2.jpg')\n",
    "image = distort_correct(image,mtx,dist,camera_img_size)\n"
   ]
  },
  {
   "cell_type": "markdown",
   "metadata": {},
   "source": [
    "---"
   ]
  },
  {
   "attachments": {},
   "cell_type": "markdown",
   "metadata": {},
   "source": [
    "## Detecting Lane Lines"
   ]
  },
  {
   "cell_type": "code",
   "execution_count": null,
   "metadata": {},
   "outputs": [],
   "source": [
    "## written by Felix/Patrick\n",
    "def reduce_noise(histogram):\n",
    "    indices = np.where(lambda x: x < 30, histogram,None)\n",
    "    filtered_hist = np.zeros_like(histogram)\n",
    "\n",
    "    for i, value in enumerate(histogram):\n",
    "\n",
    "        if value < 30:\n",
    "            filtered_hist[i] = 0\n",
    "\n",
    "        else:\n",
    "            filtered_hist[i] = value\n",
    "    return filtered_hist"
   ]
  },
  {
   "cell_type": "code",
   "execution_count": null,
   "metadata": {},
   "outputs": [],
   "source": [
    "## written by Felix/Patrick\n",
    "#look at only lower half of image\n",
    "# histogram = np.sum(birdseye_result[int(birdseye_result.shape[0]/2):,:], axis=0)\n",
    "# histogram = histogram.astype(np.float32)\n",
    "# histogram = cv.normalize(histogram, # input histogram\n",
    "#                             None, # output histogram (set to None to create a new array)\n",
    "#                             alpha=0, # lower range of the output histogram\n",
    "#                             beta=1, # upper range of the output histogram\n",
    "#                             norm_type=cv.NORM_MINMAX) # normalization type\n",
    "# plt.figure()\n",
    "# plt.plot(histogram)\n",
    "# plt.savefig('saved_figures/lane_histogram.png')\n",
    "\n",
    "\n",
    "# with open('saved_figures/lane_histogram.pickle', 'wb') as handle:\n",
    "#     pickle.dump(histogram, handle, protocol=pickle.HIGHEST_PROTOCOL)\n",
    "\n",
    "# # for histo auto\n",
    "# with open('./histogram_sample/ideal_histogram.pickle', 'wb') as handle:\n",
    "#     pickle.dump(histogram, handle, protocol=pickle.HIGHEST_PROTOCOL)\n"
   ]
  },
  {
   "attachments": {},
   "cell_type": "markdown",
   "metadata": {},
   "source": [
    "## Histogram Automation"
   ]
  },
  {
   "cell_type": "code",
   "execution_count": null,
   "metadata": {
    "collapsed": false
   },
   "outputs": [],
   "source": [
    "## written by Felix/Patrick\n",
    "img1 = cv.imread(\"test_images_UNUSED/straight_lines2.jpg\")\n",
    "img1 = binary_pipeline(img1)\n",
    "#image = mpimg.imread('./test_images_UNUSED/straight_lines1.jpg')\n",
    "#image = distort_correct(image,mtx,dist,camera_img_size)\n",
    "plt.imshow(img1)"
   ]
  },
  {
   "attachments": {},
   "cell_type": "markdown",
   "metadata": {},
   "source": [
    "### ROI Selection\n"
   ]
  },
  {
   "cell_type": "code",
   "execution_count": null,
   "metadata": {},
   "outputs": [],
   "source": [
    "## written by Felix/Patrick\n",
    "## create source point suggestion for ROI \n",
    "def create_roi_suggestions(image):\n",
    "    ## \"cropping\" will be done by having the range of polgoin bottom left point between 720-520 \n",
    "    frame = cv.imread(image)\n",
    "    frame = binary_pipeline(frame)\n",
    "    x = frame.shape[1]\n",
    "    y = frame.shape[0]\n",
    "    \n",
    "    result_source_points = np.array([[(1.0, 2.0), (3.0, 4.0), (5.0, 6.0), (7.0, 8.0)]],\n",
    "               dtype=object)\n",
    "\n",
    "    # polygon_size = [(200,200),(300,300),(400,400),(500,500)]\n",
    "    # polgon_ratio= [0.8,0.7,0.6,0.5]\n",
    "    # polygon_size = [(720,250),(600,200),(500,150)]\n",
    "    # polgon_ratio= [0.7,0.06,0.05,0.04,0.035,0.03,0.025]\n",
    "    polygon_size = [(720,250)]\n",
    "    polgon_ratio= [0.032]\n",
    "    ## loop bottom left point\n",
    "    ## TUNING: granular to have more centred Histograms \n",
    "    for i in range(0,x-polygon_size[-1][0],10):\n",
    "        for j in range(520,720,20):\n",
    "            for size in polygon_size:\n",
    "                for ratio in polgon_ratio:\n",
    "                    result_source_points = np.append(result_source_points,[[\n",
    "                        [i,j],\n",
    "                        [size[0]*1/2-((size[0]*1/2)*ratio)+i,j-size[1]],\n",
    "                        [size[0]*1/2+((size[0]*1/2)*ratio)+i,j-size[1]],\n",
    "                        [i+size[0],j]\n",
    "                    ]],axis=0)\n",
    "\n",
    "    result_source_points = result_source_points[1:]\n",
    "    ## return of source points\n",
    "    return result_source_points\n"
   ]
  },
  {
   "attachments": {},
   "cell_type": "markdown",
   "metadata": {},
   "source": [
    "### Ideal Hist "
   ]
  },
  {
   "cell_type": "code",
   "execution_count": null,
   "metadata": {},
   "outputs": [],
   "source": [
    "## written by Felix/Patrick\n",
    "## import ideal histogram\n",
    "def import_ideal_histogram(histogram):\n",
    "    \n",
    "   \n",
    "    #ideal_histogram = np.zeros((1280, 1))\n",
    "    #ideal_histogram[100:151] = 550\n",
    "    #ideal_histogram[1000:1151] = 550\n",
    "    with open('./histogram_sample/ideal_histogram.pickle', 'rb') as handle:\n",
    "        ideal_histogram = pickle.load(handle)\n",
    "\n",
    "    \n",
    "    ## convert to hist \n",
    "    # histogram, bins = np.histogram(histogram, len(histogram))\n",
    "    # ideal_histogram, bins = np.histogram(ideal_histogram, len(ideal_histogram))\n",
    "   \n",
    "\n",
    "    ## convert to fit compareHist type format \n",
    "    histogram = histogram.astype(np.float32)\n",
    "    ideal_histogram = ideal_histogram.astype(np.float32)\n",
    "    histogram = histogram / 720\n",
    "    ideal_histogram = ideal_histogram / 720\n",
    "    ideal_histogram = np.expand_dims(ideal_histogram, axis=1)\n",
    "\n",
    "   \n",
    "    ## normalization used different approach\n",
    "    #histogram = cv.normalize(histogram, # input histogram\n",
    "    #                        None, # output histogram (set to None to create a new array)\n",
    "    #                        alpha=0, # lower range of the output histogram\n",
    "    #                        beta=1, # upper range of the output histogram\n",
    "    #                        norm_type=cv.NORM_MINMAX) # normalization type\n",
    "\n",
    "    #ideal_histogram = cv.normalize(ideal_histogram, # input histogram\n",
    "    #                            None, # output histogram (set to None to create a new array)\n",
    "    #                            alpha=0, # lower range of the output histogram\n",
    "    #                            beta=1, # upper range of the output histogram\n",
    "    #                            norm_type=cv.NORM_MINMAX) # normalization type\n",
    "\n",
    "    return histogram, ideal_histogram\n"
   ]
  },
  {
   "cell_type": "code",
   "execution_count": null,
   "metadata": {},
   "outputs": [],
   "source": [
    "## written by Felix/Patrick\n",
    "\n",
    "## Explanation of metrics \n",
    "# compare func with cv2 metric // lower is better \n",
    "# CHI-SQUARE for good comparsons, lower is better\n",
    "# CORRELATION for likeness in shape and patterns, Range 0-1, 1 is best and strongly correlated\n",
    "# INTERSECTION for measuring the overlap between the detected lanes and the ideal lanes, range from 0 to the total number of pixels in the histograms, the higher has more overlap -> more similar\n",
    "# BHATTACHARYYA for measuring the overall similarity of the distributions of the detected lanes and the ideal lanes, range from 0 to 1, 0 is best and most similar,1  is complettely different\n",
    "\n",
    "def compare_histo(histogram, ideal_histogram):\n",
    "    result_chi= cv.compareHist(histogram,ideal_histogram,cv.HISTCMP_CHISQR)\n",
    "    result_cor= cv.compareHist(histogram,ideal_histogram,cv.HISTCMP_CORREL)\n",
    "    result_int= cv.compareHist(histogram,ideal_histogram,cv.HISTCMP_INTERSECT)\n",
    "    result_bha= cv.compareHist(histogram,ideal_histogram,cv.HISTCMP_BHATTACHARYYA)\n",
    "    #print(\"Chi-square result\",result_chi)\n",
    "    #print(\"Correlation result\",result_cor)\n",
    "    #print(\"Intersection result\",result_int)\n",
    "    #print(\"Bhattacharyya result\",result_bha)\n",
    "    ##remove [] later \n",
    "    result_compare = (result_chi,result_cor,result_int,result_bha)\n",
    "    return result_compare\n"
   ]
  },
  {
   "attachments": {},
   "cell_type": "markdown",
   "metadata": {},
   "source": [
    "### Validation check"
   ]
  },
  {
   "cell_type": "code",
   "execution_count": null,
   "metadata": {},
   "outputs": [],
   "source": [
    "## written by Felix/Patrick\n",
    "def warp_image_without_roi(img, source_points):\n",
    "    \n",
    "    image_size = (img.shape[1], img.shape[0])\n",
    "    x = img.shape[1]\n",
    "    y = img.shape[0]\n",
    "\n",
    "    source_points = np.float32(source_points)    \n",
    "    \n",
    "    destination_points = np.float32([\n",
    "    [0.25 * x, y],\n",
    "    [0.25 * x, 0],\n",
    "    [x - (0.25 * x), 0],\n",
    "    [x - (0.25 * x), y]\n",
    "    ])\n",
    "\n",
    "    perspective_transform = cv.getPerspectiveTransform(source_points, destination_points)\n",
    "    inverse_perspective_transform = cv.getPerspectiveTransform( destination_points, source_points)\n",
    "    \n",
    "    warped_img = cv.warpPerspective(img, perspective_transform, (1280,720), flags=cv.INTER_LINEAR)\n",
    "    \n",
    "    return warped_img, inverse_perspective_transform"
   ]
  },
  {
   "cell_type": "code",
   "execution_count": null,
   "metadata": {},
   "outputs": [],
   "source": [
    "## written by Felix/Patrick\n",
    "def image_to_birds_eye(image,source_points):\n",
    "    image = distort_correct(image,mtx,dist,camera_img_size)\n",
    "    result = binary_pipeline(image)\n",
    "    birdseye_result, inverse_perspective_transform = warp_image_without_roi(result,source_points)\n",
    "    return birdseye_result\n",
    "    \n",
    "## written by Felix/Patrick\n",
    "def birds_eye_plotting(birdseye_result,image,source_points,histrogram , compare_result,spike1, spike2, spike3, spike4,comp1,comp2):\n",
    "    # Plot the result\n",
    "    f, (ax1, ax2, ax3,ax4,ax5) = plt.subplots(1, 5, figsize=(24, 9))\n",
    "    f.tight_layout()\n",
    "\n",
    "    # Plot the source image\n",
    "    image_size = (image.shape[1], image.shape[0])\n",
    "    x = image.shape[1]\n",
    "    y = image.shape[0]\n",
    "    source_points = np.int32(source_points)\n",
    "\n",
    "    draw_poly = cv.polylines(image,[source_points],True,(255,0,0), 5)\n",
    "\n",
    "    ax1.imshow(draw_poly)\n",
    "    ax1.set_title('Source', fontsize=10)\n",
    "\n",
    "    # Plot the destination image\n",
    "    ax2.imshow(birdseye_result, cmap='gray')\n",
    "    ax2.set_title('Destination', fontsize=10)\n",
    "\n",
    "    # Plot the histogram\n",
    "    ax3.set_ylim([0, 1])\n",
    "    compare_result= [round(value, 2) for value in compare_result]\n",
    "    ax3.plot(histrogram)\n",
    "    ax3.set_title(compare_result, fontsize=10)\n",
    "\n",
    "\n",
    "    comp1 = [round(value,2) for value in comp1]\n",
    "    ax4.set_title(comp1, fontsize=10)\n",
    "    ax4.plot(spike1, color='red')\n",
    "    ax4.plot(spike2, color='green')\n",
    "\n",
    "\n",
    "    comp2 = [round(value,2) for value in comp2]\n",
    "    ax5.set_title(comp2, fontsize=10)\n",
    "    ax5.plot(spike3, color='red')\n",
    "    ax5.plot(spike4, color='green')\n",
    "\n",
    "    plt.subplots_adjust(left=0., right=1, top=0.9, bottom=0.)\n",
    "    plt.tight_layout()\n",
    "    return f \n",
    "\n"
   ]
  },
  {
   "cell_type": "code",
   "execution_count": null,
   "metadata": {},
   "outputs": [],
   "source": [
    "## written by Felix/Patrick\n",
    "def create_histogram(birds_eye_result):\n",
    "    histogram = np.sum(birds_eye_result[int(birds_eye_result.shape[0]/2):,:], axis=0)\n",
    "\n",
    "    histogram = histogram.astype(np.float32)\n",
    "    # histogram = reduce_noise(histogram)\n",
    "    histogram = np.expand_dims(histogram, axis=1)\n",
    "    # histogram = cv.normalize(histogram, # normalizes in y achse \n",
    "    #                 None, # output histogram (set to None to create a new array)\n",
    "    #                 alpha=0, # lower range of the output histogram\n",
    "    #                 beta=1, # upper range of the output histogram\n",
    "    #                 norm_type=cv.NORM_MINMAX) # normalization type\n",
    "    # plt.plot(histogram)\n",
    "    return histogram"
   ]
  },
  {
   "cell_type": "code",
   "execution_count": null,
   "metadata": {},
   "outputs": [],
   "source": [
    "## written by Felix/Patrick\n",
    "img = cv.imread('./test_images_UNUSED/straight_lines2.jpg')\n",
    "# print(img.shape)\n",
    "# # plt.imshow(img)\n",
    "# source= np.int32([[350, 680],[643, 430],[673, 430],[1120, 680]])\n",
    "# birds_eye_result = image_to_birds_eye(img,source)\n",
    "# birds_eye_plotting(birds_eye_result,img,source,histogram)\n",
    "\n",
    "# birds_eye_plotting(birds_eye_result,img)"
   ]
  },
  {
   "attachments": {},
   "cell_type": "markdown",
   "metadata": {},
   "source": [
    "#### Spike Detection for Comparison"
   ]
  },
  {
   "cell_type": "code",
   "execution_count": null,
   "metadata": {},
   "outputs": [],
   "source": [
    "## written by Felix/Patrick\n",
    "# gets the spikes of the histogram\n",
    "def get_spikes(histogram):\n",
    "    \n",
    "    spike_positions = []\n",
    "    spike_magnitudes = []\n",
    "\n",
    "    spike = False\n",
    "    for i in range(len(histogram)):\n",
    "        if histogram[i] != 0 and spike == False:\n",
    "            spike = True\n",
    "            spike_positions.append((i, 0))\n",
    "        elif histogram[i] == 0 and spike == True:\n",
    "            spike = False\n",
    "            spike_positions[-1] = (spike_positions[-1][0], i)\n",
    "\n",
    "    for spike in spike_positions:\n",
    "       spike_magnitudes.append(0)\n",
    "       for i in range(spike[0], spike[1]):\n",
    "           spike_magnitudes[-1] += histogram[i]\n",
    "\n",
    "    spike1 = (0,0)\n",
    "    spike2 = (0,0)\n",
    "\n",
    "    max = 0\n",
    "    for mag in spike_magnitudes:\n",
    "        if mag > max:\n",
    "            max = mag\n",
    "            spike1 = spike_positions[spike_magnitudes.index(mag)]\n",
    "\n",
    "    spike_magnitudes.pop(spike_positions.index(spike1))\n",
    "    spike_positions.pop(spike_positions.index(spike1))\n",
    "    \n",
    "    max = 0\n",
    "    for mag in spike_magnitudes:\n",
    "        if mag > max:\n",
    "            max = mag\n",
    "            spike2 = spike_positions[spike_magnitudes.index(mag)]\n",
    "\n",
    "    spike1 = histogram[spike1[0]:spike1[1]]\n",
    "    spike2 = histogram[spike2[0]:spike2[1]]\n",
    "\n",
    "    return spike1, spike2\n"
   ]
  },
  {
   "cell_type": "code",
   "execution_count": null,
   "metadata": {},
   "outputs": [],
   "source": [
    "## written by Felix/Patrick\n",
    "## formates the histogram to the same length \n",
    "def hist_pad_format(histo, ideal_histogram):\n",
    "    unchanged_array = []\n",
    "    if len(ideal_histogram) > len(histo):\n",
    "        padded_array = np.zeros(len(ideal_histogram))\n",
    "        unchanged_array = ideal_histogram\n",
    "        for i in range(len(histo)):\n",
    "            padded_array[(len(padded_array)- len(histo) ) // 2 + i-1] = (histo[i-1])\n",
    "    elif len(ideal_histogram) < len(histo):\n",
    "        padded_array = np.zeros(len(histo))\n",
    "        unchanged_array = histo\n",
    "        for i in range(len(ideal_histogram)):\n",
    "            padded_array[(len(padded_array) - len(ideal_histogram)) // 2 + i-1] = (ideal_histogram[i-1])\n",
    "    else:\n",
    "        padded_array = histo\n",
    "        unchanged_array = ideal_histogram\n",
    "    \n",
    "    result_array = np.expand_dims(padded_array, axis=1)\n",
    "    result_array = result_array.astype(np.float32)\n",
    "    return result_array, unchanged_array"
   ]
  },
  {
   "cell_type": "code",
   "execution_count": null,
   "metadata": {},
   "outputs": [],
   "source": [
    "## written by Felix/Patrick\n",
    "# calculates the average of both spikes\n",
    "def spike_compare_average(spike_1, ideal_spike_1, spike_2, ideal_spike_2):\n",
    "        result_1 = compare_histo(spike_1, ideal_spike_1)\n",
    "        result_2 = compare_histo(spike_2, ideal_spike_2)\n",
    "        result_combined = ((result_1[0] + result_2[0]) / 2, (result_1[1] + result_2[1]) / 2, (result_1[2] + result_2[2]) / 2, (result_1[3] + result_2[3]) / 2)\n",
    "        return result_combined\n"
   ]
  },
  {
   "attachments": {},
   "cell_type": "markdown",
   "metadata": {},
   "source": [
    "### Get best ROI"
   ]
  },
  {
   "cell_type": "code",
   "execution_count": null,
   "metadata": {},
   "outputs": [],
   "source": [
    "## written by Felix/Patrick\n",
    "# plot function for the histogram with all metrics and spikes \n",
    "def plot_all(histogram, comparison_result, source_point,spike1, spike2, spike3, spike4,comp1,comp2):\n",
    "    img = cv.imread('./test_images_UNUSED/straight_lines2.jpg')\n",
    "    birds_eye_result = image_to_birds_eye(img,source_point)\n",
    "    \n",
    "    result = birds_eye_plotting(birds_eye_result,img,source_point, histogram, comparison_result,spike1, spike2, spike3, spike4,comp1,comp2)\n",
    "\n",
    "    return result"
   ]
  },
  {
   "cell_type": "code",
   "execution_count": 839,
   "metadata": {},
   "outputs": [],
   "source": [
    "## written by Felix/Patrick\n",
    "def get_best_roi(image,source_points):\n",
    "    ## sources points loopen\n",
    "    comparison_results = []\n",
    "    histograms = []\n",
    "    figures= []\n",
    "    for current_source_points in source_points:\n",
    "\n",
    "\n",
    "        birdseye_result = image_to_birds_eye(image, current_source_points)\n",
    "        histogram = create_histogram(birdseye_result)        \n",
    "        histogram,ideal_histogram = import_ideal_histogram(histogram)\n",
    "        \n",
    "        \n",
    "        histograms.append(histogram)\n",
    "        if max(histogram) < 0.2:\n",
    "            comparison_results.append((9999,0,0,9999))\n",
    "            continue\n",
    "        \n",
    "        \n",
    "        # Spike detection\n",
    "        try:\n",
    "            histo_spike_1, histo_spike_2 = get_spikes(histogram)\n",
    "            ideal_histogram_spike_1, ideal_histogram_spike_2 = get_spikes(ideal_histogram)\n",
    "\n",
    "\n",
    "            spike1, spike2 = hist_pad_format(histo_spike_1, ideal_histogram_spike_1)\n",
    "            spike3, spike4 = hist_pad_format(histo_spike_2, ideal_histogram_spike_2)\n",
    "            comp1 = compare_histo(spike1, spike2)\n",
    "            comp2 = compare_histo(spike3, spike4)\n",
    "            \n",
    "            compare_hist = spike_compare_average(spike1, spike2, spike3, spike4)\n",
    "            comparison_results.append(compare_hist)\n",
    "    \n",
    "        except(ValueError):\n",
    "            comparison_results.append((9999,0,0,9999))\n",
    "            continue\n",
    "            \n",
    " \n",
    "\n",
    "        figures.append(plot_all(histogram, compare_hist, current_source_points,spike1,spike2,spike3,spike4, comp1, comp2))\n",
    "\n",
    "\n",
    "    return comparison_results,histograms,source_points,figures"
   ]
  },
  {
   "cell_type": "code",
   "execution_count": 840,
   "metadata": {},
   "outputs": [
    {
     "ename": "KeyboardInterrupt",
     "evalue": "",
     "output_type": "error",
     "traceback": [
      "\u001b[0;31m---------------------------------------------------------------------------\u001b[0m",
      "\u001b[0;31mKeyboardInterrupt\u001b[0m                         Traceback (most recent call last)",
      "\u001b[1;32m/Users/patrickahrend/Developer/hyperautomation-lane-detection-1/Part II - Adv Lane Detection and Road Features 2/Part II - Adv Lane Detection and Road Features 2/Part II - Advanced Lane Line Detection.ipynb Cell 80\u001b[0m in \u001b[0;36m<cell line: 5>\u001b[0;34m()\u001b[0m\n\u001b[1;32m      <a href='vscode-notebook-cell:/Users/patrickahrend/Developer/hyperautomation-lane-detection-1/Part%20II%20-%20Adv%20Lane%20Detection%20and%20Road%20Features%202/Part%20II%20-%20Adv%20Lane%20Detection%20and%20Road%20Features%202/Part%20II%20-%20Advanced%20Lane%20Line%20Detection.ipynb#Y151sZmlsZQ%3D%3D?line=1'>2</a>\u001b[0m source_points \u001b[39m=\u001b[39m create_roi_suggestions(\u001b[39m'\u001b[39m\u001b[39m./test_images_UNUSED/straight_lines2.jpg\u001b[39m\u001b[39m'\u001b[39m)\n\u001b[1;32m      <a href='vscode-notebook-cell:/Users/patrickahrend/Developer/hyperautomation-lane-detection-1/Part%20II%20-%20Adv%20Lane%20Detection%20and%20Road%20Features%202/Part%20II%20-%20Adv%20Lane%20Detection%20and%20Road%20Features%202/Part%20II%20-%20Advanced%20Lane%20Line%20Detection.ipynb#Y151sZmlsZQ%3D%3D?line=2'>3</a>\u001b[0m frame \u001b[39m=\u001b[39m cv\u001b[39m.\u001b[39mimread(\u001b[39m'\u001b[39m\u001b[39m./test_images_UNUSED/straight_lines2.jpg\u001b[39m\u001b[39m'\u001b[39m)\n\u001b[0;32m----> <a href='vscode-notebook-cell:/Users/patrickahrend/Developer/hyperautomation-lane-detection-1/Part%20II%20-%20Adv%20Lane%20Detection%20and%20Road%20Features%202/Part%20II%20-%20Adv%20Lane%20Detection%20and%20Road%20Features%202/Part%20II%20-%20Advanced%20Lane%20Line%20Detection.ipynb#Y151sZmlsZQ%3D%3D?line=4'>5</a>\u001b[0m comparison_results,histograms,source_points,figures \u001b[39m=\u001b[39m get_best_roi(frame,source_points)\n",
      "\u001b[1;32m/Users/patrickahrend/Developer/hyperautomation-lane-detection-1/Part II - Adv Lane Detection and Road Features 2/Part II - Adv Lane Detection and Road Features 2/Part II - Advanced Lane Line Detection.ipynb Cell 80\u001b[0m in \u001b[0;36mget_best_roi\u001b[0;34m(image, source_points)\u001b[0m\n\u001b[1;32m      <a href='vscode-notebook-cell:/Users/patrickahrend/Developer/hyperautomation-lane-detection-1/Part%20II%20-%20Adv%20Lane%20Detection%20and%20Road%20Features%202/Part%20II%20-%20Adv%20Lane%20Detection%20and%20Road%20Features%202/Part%20II%20-%20Advanced%20Lane%20Line%20Detection.ipynb#Y151sZmlsZQ%3D%3D?line=5'>6</a>\u001b[0m figures\u001b[39m=\u001b[39m []\n\u001b[1;32m      <a href='vscode-notebook-cell:/Users/patrickahrend/Developer/hyperautomation-lane-detection-1/Part%20II%20-%20Adv%20Lane%20Detection%20and%20Road%20Features%202/Part%20II%20-%20Adv%20Lane%20Detection%20and%20Road%20Features%202/Part%20II%20-%20Advanced%20Lane%20Line%20Detection.ipynb#Y151sZmlsZQ%3D%3D?line=6'>7</a>\u001b[0m \u001b[39mfor\u001b[39;00m current_source_points \u001b[39min\u001b[39;00m source_points:\n\u001b[1;32m      <a href='vscode-notebook-cell:/Users/patrickahrend/Developer/hyperautomation-lane-detection-1/Part%20II%20-%20Adv%20Lane%20Detection%20and%20Road%20Features%202/Part%20II%20-%20Adv%20Lane%20Detection%20and%20Road%20Features%202/Part%20II%20-%20Advanced%20Lane%20Line%20Detection.ipynb#Y151sZmlsZQ%3D%3D?line=7'>8</a>\u001b[0m \n\u001b[1;32m      <a href='vscode-notebook-cell:/Users/patrickahrend/Developer/hyperautomation-lane-detection-1/Part%20II%20-%20Adv%20Lane%20Detection%20and%20Road%20Features%202/Part%20II%20-%20Adv%20Lane%20Detection%20and%20Road%20Features%202/Part%20II%20-%20Advanced%20Lane%20Line%20Detection.ipynb#Y151sZmlsZQ%3D%3D?line=8'>9</a>\u001b[0m \n\u001b[1;32m     <a href='vscode-notebook-cell:/Users/patrickahrend/Developer/hyperautomation-lane-detection-1/Part%20II%20-%20Adv%20Lane%20Detection%20and%20Road%20Features%202/Part%20II%20-%20Adv%20Lane%20Detection%20and%20Road%20Features%202/Part%20II%20-%20Advanced%20Lane%20Line%20Detection.ipynb#Y151sZmlsZQ%3D%3D?line=9'>10</a>\u001b[0m     \u001b[39m#TODO BUGfixing von heir bis histo_spike \u001b[39;00m\n\u001b[1;32m     <a href='vscode-notebook-cell:/Users/patrickahrend/Developer/hyperautomation-lane-detection-1/Part%20II%20-%20Adv%20Lane%20Detection%20and%20Road%20Features%202/Part%20II%20-%20Adv%20Lane%20Detection%20and%20Road%20Features%202/Part%20II%20-%20Advanced%20Lane%20Line%20Detection.ipynb#Y151sZmlsZQ%3D%3D?line=10'>11</a>\u001b[0m     \u001b[39m## histogramm erstellen\u001b[39;00m\n\u001b[0;32m---> <a href='vscode-notebook-cell:/Users/patrickahrend/Developer/hyperautomation-lane-detection-1/Part%20II%20-%20Adv%20Lane%20Detection%20and%20Road%20Features%202/Part%20II%20-%20Adv%20Lane%20Detection%20and%20Road%20Features%202/Part%20II%20-%20Advanced%20Lane%20Line%20Detection.ipynb#Y151sZmlsZQ%3D%3D?line=11'>12</a>\u001b[0m     birdseye_result \u001b[39m=\u001b[39m image_to_birds_eye(image, current_source_points)\n\u001b[1;32m     <a href='vscode-notebook-cell:/Users/patrickahrend/Developer/hyperautomation-lane-detection-1/Part%20II%20-%20Adv%20Lane%20Detection%20and%20Road%20Features%202/Part%20II%20-%20Adv%20Lane%20Detection%20and%20Road%20Features%202/Part%20II%20-%20Advanced%20Lane%20Line%20Detection.ipynb#Y151sZmlsZQ%3D%3D?line=12'>13</a>\u001b[0m     histogram \u001b[39m=\u001b[39m create_histogram(birdseye_result)        \n\u001b[1;32m     <a href='vscode-notebook-cell:/Users/patrickahrend/Developer/hyperautomation-lane-detection-1/Part%20II%20-%20Adv%20Lane%20Detection%20and%20Road%20Features%202/Part%20II%20-%20Adv%20Lane%20Detection%20and%20Road%20Features%202/Part%20II%20-%20Advanced%20Lane%20Line%20Detection.ipynb#Y151sZmlsZQ%3D%3D?line=13'>14</a>\u001b[0m     histogram,ideal_histogram \u001b[39m=\u001b[39m import_ideal_histogram(histogram)\n",
      "\u001b[1;32m/Users/patrickahrend/Developer/hyperautomation-lane-detection-1/Part II - Adv Lane Detection and Road Features 2/Part II - Adv Lane Detection and Road Features 2/Part II - Advanced Lane Line Detection.ipynb Cell 80\u001b[0m in \u001b[0;36mimage_to_birds_eye\u001b[0;34m(image, source_points)\u001b[0m\n\u001b[1;32m      <a href='vscode-notebook-cell:/Users/patrickahrend/Developer/hyperautomation-lane-detection-1/Part%20II%20-%20Adv%20Lane%20Detection%20and%20Road%20Features%202/Part%20II%20-%20Adv%20Lane%20Detection%20and%20Road%20Features%202/Part%20II%20-%20Advanced%20Lane%20Line%20Detection.ipynb#Y151sZmlsZQ%3D%3D?line=2'>3</a>\u001b[0m \u001b[39mdef\u001b[39;00m \u001b[39mimage_to_birds_eye\u001b[39m(image,source_points):\n\u001b[1;32m      <a href='vscode-notebook-cell:/Users/patrickahrend/Developer/hyperautomation-lane-detection-1/Part%20II%20-%20Adv%20Lane%20Detection%20and%20Road%20Features%202/Part%20II%20-%20Adv%20Lane%20Detection%20and%20Road%20Features%202/Part%20II%20-%20Advanced%20Lane%20Line%20Detection.ipynb#Y151sZmlsZQ%3D%3D?line=3'>4</a>\u001b[0m     image \u001b[39m=\u001b[39m distort_correct(image,mtx,dist,camera_img_size)\n\u001b[0;32m----> <a href='vscode-notebook-cell:/Users/patrickahrend/Developer/hyperautomation-lane-detection-1/Part%20II%20-%20Adv%20Lane%20Detection%20and%20Road%20Features%202/Part%20II%20-%20Adv%20Lane%20Detection%20and%20Road%20Features%202/Part%20II%20-%20Advanced%20Lane%20Line%20Detection.ipynb#Y151sZmlsZQ%3D%3D?line=4'>5</a>\u001b[0m     result \u001b[39m=\u001b[39m binary_pipeline(image)\n\u001b[1;32m      <a href='vscode-notebook-cell:/Users/patrickahrend/Developer/hyperautomation-lane-detection-1/Part%20II%20-%20Adv%20Lane%20Detection%20and%20Road%20Features%202/Part%20II%20-%20Adv%20Lane%20Detection%20and%20Road%20Features%202/Part%20II%20-%20Advanced%20Lane%20Line%20Detection.ipynb#Y151sZmlsZQ%3D%3D?line=5'>6</a>\u001b[0m     birdseye_result, inverse_perspective_transform \u001b[39m=\u001b[39m warp_image_without_roi(result,source_points)\n\u001b[1;32m      <a href='vscode-notebook-cell:/Users/patrickahrend/Developer/hyperautomation-lane-detection-1/Part%20II%20-%20Adv%20Lane%20Detection%20and%20Road%20Features%202/Part%20II%20-%20Adv%20Lane%20Detection%20and%20Road%20Features%202/Part%20II%20-%20Advanced%20Lane%20Line%20Detection.ipynb#Y151sZmlsZQ%3D%3D?line=6'>7</a>\u001b[0m     \u001b[39mreturn\u001b[39;00m birdseye_result\n",
      "\u001b[1;32m/Users/patrickahrend/Developer/hyperautomation-lane-detection-1/Part II - Adv Lane Detection and Road Features 2/Part II - Adv Lane Detection and Road Features 2/Part II - Advanced Lane Line Detection.ipynb Cell 80\u001b[0m in \u001b[0;36mbinary_pipeline\u001b[0;34m(img)\u001b[0m\n\u001b[1;32m     <a href='vscode-notebook-cell:/Users/patrickahrend/Developer/hyperautomation-lane-detection-1/Part%20II%20-%20Adv%20Lane%20Detection%20and%20Road%20Features%202/Part%20II%20-%20Adv%20Lane%20Detection%20and%20Road%20Features%202/Part%20II%20-%20Advanced%20Lane%20Line%20Detection.ipynb#Y151sZmlsZQ%3D%3D?line=14'>15</a>\u001b[0m xy \u001b[39m=\u001b[39m cv\u001b[39m.\u001b[39mbitwise_and(x_binary, y_binary)\n\u001b[1;32m     <a href='vscode-notebook-cell:/Users/patrickahrend/Developer/hyperautomation-lane-detection-1/Part%20II%20-%20Adv%20Lane%20Detection%20and%20Road%20Features%202/Part%20II%20-%20Adv%20Lane%20Detection%20and%20Road%20Features%202/Part%20II%20-%20Advanced%20Lane%20Line%20Detection.ipynb#Y151sZmlsZQ%3D%3D?line=16'>17</a>\u001b[0m \u001b[39m#magnitude & direction\u001b[39;00m\n\u001b[0;32m---> <a href='vscode-notebook-cell:/Users/patrickahrend/Developer/hyperautomation-lane-detection-1/Part%20II%20-%20Adv%20Lane%20Detection%20and%20Road%20Features%202/Part%20II%20-%20Adv%20Lane%20Detection%20and%20Road%20Features%202/Part%20II%20-%20Advanced%20Lane%20Line%20Detection.ipynb#Y151sZmlsZQ%3D%3D?line=17'>18</a>\u001b[0m mag_binary \u001b[39m=\u001b[39m mag_threshold(img_copy, sobel_kernel\u001b[39m=\u001b[39;49m\u001b[39m3\u001b[39;49m, thresh\u001b[39m=\u001b[39;49m(\u001b[39m30\u001b[39;49m,\u001b[39m100\u001b[39;49m))\n\u001b[1;32m     <a href='vscode-notebook-cell:/Users/patrickahrend/Developer/hyperautomation-lane-detection-1/Part%20II%20-%20Adv%20Lane%20Detection%20and%20Road%20Features%202/Part%20II%20-%20Adv%20Lane%20Detection%20and%20Road%20Features%202/Part%20II%20-%20Advanced%20Lane%20Line%20Detection.ipynb#Y151sZmlsZQ%3D%3D?line=18'>19</a>\u001b[0m \u001b[39m#Patrick tresh(30,100)\u001b[39;00m\n\u001b[1;32m     <a href='vscode-notebook-cell:/Users/patrickahrend/Developer/hyperautomation-lane-detection-1/Part%20II%20-%20Adv%20Lane%20Detection%20and%20Road%20Features%202/Part%20II%20-%20Adv%20Lane%20Detection%20and%20Road%20Features%202/Part%20II%20-%20Advanced%20Lane%20Line%20Detection.ipynb#Y151sZmlsZQ%3D%3D?line=19'>20</a>\u001b[0m dir_binary \u001b[39m=\u001b[39m dir_threshold(img_copy, sobel_kernel\u001b[39m=\u001b[39m\u001b[39m3\u001b[39m, thresh\u001b[39m=\u001b[39m(\u001b[39m0.8\u001b[39m, \u001b[39m1.2\u001b[39m))\n",
      "\u001b[1;32m/Users/patrickahrend/Developer/hyperautomation-lane-detection-1/Part II - Adv Lane Detection and Road Features 2/Part II - Adv Lane Detection and Road Features 2/Part II - Advanced Lane Line Detection.ipynb Cell 80\u001b[0m in \u001b[0;36mmag_threshold\u001b[0;34m(img, sobel_kernel, thresh)\u001b[0m\n\u001b[1;32m      <a href='vscode-notebook-cell:/Users/patrickahrend/Developer/hyperautomation-lane-detection-1/Part%20II%20-%20Adv%20Lane%20Detection%20and%20Road%20Features%202/Part%20II%20-%20Adv%20Lane%20Detection%20and%20Road%20Features%202/Part%20II%20-%20Advanced%20Lane%20Line%20Detection.ipynb#Y151sZmlsZQ%3D%3D?line=0'>1</a>\u001b[0m \u001b[39mdef\u001b[39;00m \u001b[39mmag_threshold\u001b[39m(img, sobel_kernel\u001b[39m=\u001b[39m\u001b[39m3\u001b[39m, thresh\u001b[39m=\u001b[39m(\u001b[39m0\u001b[39m, \u001b[39m255\u001b[39m)):\n\u001b[1;32m      <a href='vscode-notebook-cell:/Users/patrickahrend/Developer/hyperautomation-lane-detection-1/Part%20II%20-%20Adv%20Lane%20Detection%20and%20Road%20Features%202/Part%20II%20-%20Adv%20Lane%20Detection%20and%20Road%20Features%202/Part%20II%20-%20Advanced%20Lane%20Line%20Detection.ipynb#Y151sZmlsZQ%3D%3D?line=1'>2</a>\u001b[0m     \u001b[39m# 1) Convert to grayscale\u001b[39;00m\n\u001b[0;32m----> <a href='vscode-notebook-cell:/Users/patrickahrend/Developer/hyperautomation-lane-detection-1/Part%20II%20-%20Adv%20Lane%20Detection%20and%20Road%20Features%202/Part%20II%20-%20Adv%20Lane%20Detection%20and%20Road%20Features%202/Part%20II%20-%20Advanced%20Lane%20Line%20Detection.ipynb#Y151sZmlsZQ%3D%3D?line=2'>3</a>\u001b[0m     gray \u001b[39m=\u001b[39m cv\u001b[39m.\u001b[39;49mcvtColor(img, cv\u001b[39m.\u001b[39;49mCOLOR_RGB2GRAY)\n\u001b[1;32m      <a href='vscode-notebook-cell:/Users/patrickahrend/Developer/hyperautomation-lane-detection-1/Part%20II%20-%20Adv%20Lane%20Detection%20and%20Road%20Features%202/Part%20II%20-%20Adv%20Lane%20Detection%20and%20Road%20Features%202/Part%20II%20-%20Advanced%20Lane%20Line%20Detection.ipynb#Y151sZmlsZQ%3D%3D?line=3'>4</a>\u001b[0m     \u001b[39m# 2) Take the gradient in x and y separately\u001b[39;00m\n\u001b[1;32m      <a href='vscode-notebook-cell:/Users/patrickahrend/Developer/hyperautomation-lane-detection-1/Part%20II%20-%20Adv%20Lane%20Detection%20and%20Road%20Features%202/Part%20II%20-%20Adv%20Lane%20Detection%20and%20Road%20Features%202/Part%20II%20-%20Advanced%20Lane%20Line%20Detection.ipynb#Y151sZmlsZQ%3D%3D?line=4'>5</a>\u001b[0m     x \u001b[39m=\u001b[39m cv\u001b[39m.\u001b[39mSobel(gray, cv\u001b[39m.\u001b[39mCV_64F, \u001b[39m1\u001b[39m, \u001b[39m0\u001b[39m, ksize\u001b[39m=\u001b[39msobel_kernel)\n",
      "\u001b[0;31mKeyboardInterrupt\u001b[0m: "
     ]
    }
   ],
   "source": [
    "## written by Felix/Patrick\n",
    "source_points = create_roi_suggestions('./test_images_UNUSED/straight_lines2.jpg')\n",
    "frame = cv.imread('./test_images_UNUSED/straight_lines2.jpg')\n",
    "\n",
    "comparison_results,histograms,source_points,figures = get_best_roi(frame,source_points)"
   ]
  },
  {
   "cell_type": "code",
   "execution_count": null,
   "metadata": {},
   "outputs": [],
   "source": [
    "## written by Felix/Patrick\n",
    "##TODO This is a funct to writes the above figures in a png\n",
    "\n",
    "# import matplotlib.backends.backend_agg as backend_agg\n",
    "# # Create a canvas to hold the figures\n",
    "# canvas = backend_agg.FigureCanvasAgg(figures[0])\n",
    "\n",
    "# # Loop through the figures and draw them on the canvas\n",
    "# for figure in figures:\n",
    "#     figure.draw(canvas.get_renderer())\n",
    "\n",
    "# # Save the canvas to a file\n",
    "# canvas.print_figure('output.png')"
   ]
  },
  {
   "cell_type": "code",
   "execution_count": null,
   "metadata": {},
   "outputs": [],
   "source": [
    "## written by Felix/Patrick\n",
    "## detects the best histogram with the maximum intersection and returns it \n",
    "## as 2nd metric look at chi-square\n",
    "maxInter= -1 \n",
    "index=0 \n",
    "for i in comparison_results:\n",
    "    if i[2] > maxInter:\n",
    "        maxInter = i[2]\n",
    "        index = comparison_results.index(i)\n",
    "\n",
    "best_histogram = histograms[index]\n",
    "print(len(comparison_results))\n",
    "print(len(source_points))\n",
    "print(source_points[index])\n",
    "plot_all(best_histogram, comparison_results[index], source_points[index],[],[],[],[],[], [])"
   ]
  },
  {
   "attachments": {},
   "cell_type": "markdown",
   "metadata": {},
   "source": [
    "### Lane Topology TO:DO"
   ]
  },
  {
   "cell_type": "code",
   "execution_count": null,
   "metadata": {},
   "outputs": [],
   "source": [
    "## lane topology model \n",
    "## if we have multiple good \"samples\" for different scenarios like curves, straight, etc. We can inhere from them and compare to the current image(lane) and explain the topology of the lane\n",
    "\n",
    "## this would be a rank_hist but for rank_ideal, to check with ideal histogram fits for our case --> then explain the topology of the lane\n",
    "def dectect_lane_topology():\n",
    "    ## this would be for straight lans scenario\n",
    "    with open('./histogram_sample/ideal_histogram.pickle', 'rb') as handle:\n",
    "        ideal_histogram_straight = pickle.load(handle)\n",
    "\n",
    "    result_straight = compare_histo(ideal_histogram_straight)\n",
    "\n",
    "\n",
    "    ## this would be for curve lans scenario\n",
    "    ##... \n",
    "\n",
    "    \n",
    "\n",
    "\n",
    "    #return best score of the 3 scenarios\n",
    "    pass"
   ]
  },
  {
   "attachments": {},
   "cell_type": "markdown",
   "metadata": {},
   "source": [
    "---------------------------"
   ]
  },
  {
   "cell_type": "markdown",
   "metadata": {
    "collapsed": true
   },
   "source": [
    "We can clearly see where the lanes are in this histogram. By implementing a sliding window, we can track the peaks as they veer left/right due to the slight curvature of the road."
   ]
  },
  {
   "cell_type": "markdown",
   "metadata": {},
   "source": [
    "The function below works as follows:\n",
    "1. Create a search window on the bottom of the image whose height is $\\frac{1}{9}$ of the image's height. \n",
    "2. Split the window into left and right halves.\n",
    "3. Locate the pixel column with the highest value via histogram.\n",
    "4. Draw a box around that area using a margin variable. \n",
    "5. Identify all of the non-zero pixels in that box. If there are enough, center the box on their mean position for the next window. \n",
    "6. Fit a quadradtic equation to all of the non-zero pixels identified in each half of the image (left lane and right lane)"
   ]
  },
  {
   "cell_type": "code",
   "execution_count": 829,
   "metadata": {},
   "outputs": [],
   "source": [
    "def track_lanes_initialize(binary_warped,best_histo):\n",
    "    \n",
    "    global window_search\n",
    "    \n",
    "    histogram = best_histo\n",
    "    \n",
    "    # Create an output image to draw on and  visualize the result\n",
    "    out_img = np.dstack((binary_warped, binary_warped, binary_warped))*255\n",
    "    \n",
    "    # we need max for each half of the histogram. the example above shows how\n",
    "    # things could be complicated if didn't split the image in half \n",
    "    # before taking the top 2 maxes\n",
    "    midpoint = np.int(histogram.shape[0]/2)\n",
    "    leftx_base = np.argmax(histogram[:midpoint])\n",
    "    rightx_base = np.argmax(histogram[midpoint:]) + midpoint\n",
    "    \n",
    "    # Choose the number of sliding windows\n",
    "    # this will throw an error in the height if it doesn't evenly divide the img height\n",
    "    nwindows = 9\n",
    "    # Set height of windows\n",
    "    window_height = np.int(binary_warped.shape[0]/nwindows)\n",
    "    \n",
    "    # Identify the x and y positions of all nonzero pixels in the image\n",
    "    nonzero = binary_warped.nonzero()\n",
    "    nonzeroy = np.array(nonzero[0])\n",
    "    nonzerox = np.array(nonzero[1])\n",
    "    \n",
    "    # Current positions to be updated for each window\n",
    "    leftx_current = leftx_base\n",
    "    rightx_current = rightx_base\n",
    "    \n",
    "    # Set the width of the windows +/- margin\n",
    "    margin = 100\n",
    "    # Set minimum number of pixels found to recenter window\n",
    "    minpix = 50\n",
    "    # Create empty lists to receive left and right lane pixel indices\n",
    "    left_lane_inds = []\n",
    "    right_lane_inds = []\n",
    "    \n",
    "    \n",
    "    # Step through the windows one by one\n",
    "    for window in range(nwindows):\n",
    "        # Identify window boundaries in x and y (and right and left)\n",
    "        win_y_low = int(binary_warped.shape[0] - (window+1)*window_height)\n",
    "        win_y_high = int(binary_warped.shape[0] - window*window_height)\n",
    "        win_xleft_low = leftx_current - margin\n",
    "        win_xleft_high = leftx_current + margin\n",
    "        win_xright_low = rightx_current - margin\n",
    "        win_xright_high = rightx_current + margin\n",
    "        # Draw the windows on the visualization image\n",
    "        cv.rectangle(out_img,(win_xleft_low,win_y_low),(win_xleft_high,win_y_high),(0,255,0), 3) \n",
    "        cv.rectangle(out_img,(win_xright_low,win_y_low),(win_xright_high,win_y_high),(0,255,0), 3) \n",
    "        # Identify the nonzero pixels in x and y within the window\n",
    "        good_left_inds = ((nonzeroy >= win_y_low) & (nonzeroy < win_y_high) & (nonzerox >= win_xleft_low) & (nonzerox < win_xleft_high)).nonzero()[0]\n",
    "        good_right_inds = ((nonzeroy >= win_y_low) & (nonzeroy < win_y_high) & (nonzerox >= win_xright_low) & (nonzerox < win_xright_high)).nonzero()[0]\n",
    "        # Append these indices to the lists\n",
    "        left_lane_inds.append(good_left_inds)\n",
    "        right_lane_inds.append(good_right_inds)\n",
    "        # If you found > minpix pixels, recenter next window on their mean position\n",
    "        if len(good_left_inds) > minpix:\n",
    "            leftx_current = np.int(np.mean(nonzerox[good_left_inds]))\n",
    "        if len(good_right_inds) > minpix:        \n",
    "            rightx_current = np.int(np.mean(nonzerox[good_right_inds]))\n",
    "\n",
    "            \n",
    "    # Concatenate the arrays of indices\n",
    "    left_lane_inds = np.concatenate(left_lane_inds)\n",
    "    right_lane_inds = np.concatenate(right_lane_inds)\n",
    "\n",
    "    # Extract left and right line pixel positions\n",
    "    leftx = nonzerox[left_lane_inds]\n",
    "    lefty = nonzeroy[left_lane_inds] \n",
    "    rightx = nonzerox[right_lane_inds]\n",
    "    righty = nonzeroy[right_lane_inds] \n",
    "\n",
    "    # Fit a second order polynomial to each\n",
    "    left_fit = np.polyfit(lefty, leftx, 2)\n",
    "    right_fit = np.polyfit(righty, rightx, 2)\n",
    "    \n",
    "    # Generate x and y values for plotting\n",
    "    ploty = np.linspace(0, binary_warped.shape[0]-1, binary_warped.shape[0] )\n",
    "    left_fitx = left_fit[0]*ploty**2 + left_fit[1]*ploty + left_fit[2]\n",
    "    right_fitx = right_fit[0]*ploty**2 + right_fit[1]*ploty + right_fit[2]\n",
    "\n",
    "    nonzero = binary_warped.nonzero()\n",
    "    nonzeroy = np.array(nonzero[0])\n",
    "    nonzerox = np.array(nonzero[1])\n",
    "    margin = 100\n",
    "    left_lane_inds = ((nonzerox > (left_fit[0]*(nonzeroy**2) + left_fit[1]*nonzeroy + left_fit[2] - margin)) & (nonzerox < (left_fit[0]*(nonzeroy**2) + left_fit[1]*nonzeroy + left_fit[2] + margin))) \n",
    "    right_lane_inds = ((nonzerox > (right_fit[0]*(nonzeroy**2) + right_fit[1]*nonzeroy + right_fit[2] - margin)) & (nonzerox < (right_fit[0]*(nonzeroy**2) + right_fit[1]*nonzeroy + right_fit[2] + margin)))  \n",
    "\n",
    "    # Again, extract left and right line pixel positions\n",
    "    leftx = nonzerox[left_lane_inds]\n",
    "    lefty = nonzeroy[left_lane_inds] \n",
    "    rightx = nonzerox[right_lane_inds]\n",
    "    righty = nonzeroy[right_lane_inds]\n",
    "    # Fit a second order polynomial to each\n",
    "    left_fit = np.polyfit(lefty, leftx, 2)\n",
    "    right_fit = np.polyfit(righty, rightx, 2)\n",
    "\n",
    "    return left_fit,right_fit"
   ]
  },
  {
   "cell_type": "code",
   "execution_count": 830,
   "metadata": {},
   "outputs": [],
   "source": [
    "## chnage paramters to feed the orignal algorithm our results\n",
    "img = cv.imread(\"./test_images_UNUSED/straight_lines2.jpg\")\n",
    "birdseye_result= image_to_birds_eye(img,source_points[index])\n",
    "best_histogram= cv.normalize(best_histogram, # input histogram\n",
    "                           None, # output histogram (set to None to create a new array)\n",
    "                           alpha=0, # lower range of the output histogram\n",
    "                           beta=1, # upper range of the output histogram\n",
    "                           norm_type=cv.NORM_MINMAX) # normalization type\n",
    "left_fit,right_fit = track_lanes_initialize(birdseye_result,best_histogram)"
   ]
  },
  {
   "cell_type": "markdown",
   "metadata": {},
   "source": [
    "Here's what the result looks like:"
   ]
  },
  {
   "cell_type": "code",
   "execution_count": 831,
   "metadata": {
    "scrolled": true
   },
   "outputs": [
    {
     "data": {
      "image/png": "[encoded data removed]",
      "text/plain": [
       "<IPython.core.display.Image object>"
      ]
     },
     "execution_count": 831,
     "metadata": {},
     "output_type": "execute_result"
    }
   ],
   "source": [
    "Image('saved_figures/01_window_search.png')"
   ]
  },
  {
   "cell_type": "markdown",
   "metadata": {},
   "source": [
    "Now that we have found the lanes, we can refine the area we will search in to speed up the process. The function below works as follows:\n",
    "    1. Import the polynomials.\n",
    "    2. Look within a pixel margin for non-zero pixels.\n",
    "    3. Fit a update the polynomials to fit new data. "
   ]
  },
  {
   "cell_type": "code",
   "execution_count": 832,
   "metadata": {},
   "outputs": [],
   "source": [
    "def track_lanes_update(binary_warped, left_fit,right_fit):\n",
    "\n",
    "    global window_search\n",
    "    global frame_count\n",
    "    \n",
    "    # repeat window search to maintain stability\n",
    "    if frame_count % 10 == 0:\n",
    "        window_search=True\n",
    "   \n",
    "        \n",
    "    nonzero = binary_warped.nonzero()\n",
    "    nonzeroy = np.array(nonzero[0])\n",
    "    nonzerox = np.array(nonzero[1])\n",
    "    margin = 100\n",
    "    left_lane_inds = ((nonzerox > (left_fit[0]*(nonzeroy**2) + left_fit[1]*nonzeroy + left_fit[2] - margin)) & (nonzerox < (left_fit[0]*(nonzeroy**2) + left_fit[1]*nonzeroy + left_fit[2] + margin))) \n",
    "    right_lane_inds = ((nonzerox > (right_fit[0]*(nonzeroy**2) + right_fit[1]*nonzeroy + right_fit[2] - margin)) & (nonzerox < (right_fit[0]*(nonzeroy**2) + right_fit[1]*nonzeroy + right_fit[2] + margin)))  \n",
    "\n",
    "    # Again, extract left and right line pixel positions\n",
    "    leftx = nonzerox[left_lane_inds]\n",
    "    lefty = nonzeroy[left_lane_inds] \n",
    "    rightx = nonzerox[right_lane_inds]\n",
    "    righty = nonzeroy[right_lane_inds]\n",
    "    # Fit a second order polynomial to each\n",
    "    left_fit = np.polyfit(lefty, leftx, 2)\n",
    "    right_fit = np.polyfit(righty, rightx, 2)\n",
    "    # Generate x and y values for plotting\n",
    "    ploty = np.linspace(0, binary_warped.shape[0]-1, binary_warped.shape[0] )\n",
    "    left_fitx = left_fit[0]*ploty**2 + left_fit[1]*ploty + left_fit[2]\n",
    "    right_fitx = right_fit[0]*ploty**2 + right_fit[1]*ploty + right_fit[2]\n",
    "\n",
    "\n",
    "    return left_fit,right_fit,leftx,lefty,rightx,righty"
   ]
  },
  {
   "cell_type": "code",
   "execution_count": 833,
   "metadata": {},
   "outputs": [],
   "source": [
    "global frame_count\n",
    "frame_count=0\n",
    "left_fit,right_fit,leftx,lefty,rightx,righty = track_lanes_update(birdseye_result, left_fit,right_fit)"
   ]
  },
  {
   "cell_type": "markdown",
   "metadata": {},
   "source": [
    "Here's what the new search area looks like:"
   ]
  },
  {
   "cell_type": "code",
   "execution_count": 834,
   "metadata": {},
   "outputs": [
    {
     "data": {
      "image/png": "[encoded data removed]",
      "text/plain": [
       "<IPython.core.display.Image object>"
      ]
     },
     "execution_count": 834,
     "metadata": {},
     "output_type": "execute_result"
    }
   ],
   "source": [
    "Image('saved_figures/02_updated_search_window.png')"
   ]
  },
  {
   "cell_type": "markdown",
   "metadata": {},
   "source": [
    "---"
   ]
  },
  {
   "cell_type": "markdown",
   "metadata": {},
   "source": [
    "### Drawing the lane on the original image\n",
    "\n",
    "Now that we know where the lanes are, we can output that to the actual video feed. We'll do it in these steps:\n",
    "    1. Import the polynomials\n",
    "    2. Draw the polynomial curves on a blank copy of the warped binary\n",
    "    3. Fill the polygon between the curves\n",
    "    4. Unwarp the new image using the inverse perspective transformation\n",
    "    5. Overlay the lane image on top of the original frame"
   ]
  },
  {
   "cell_type": "code",
   "execution_count": 835,
   "metadata": {},
   "outputs": [],
   "source": [
    "# A function to get quadratic polynomial output\n",
    "def get_val(y,poly_coeff):\n",
    "    return poly_coeff[0]*y**2+poly_coeff[1]*y+poly_coeff[2]"
   ]
  },
  {
   "cell_type": "code",
   "execution_count": 836,
   "metadata": {},
   "outputs": [],
   "source": [
    "def lane_fill_poly(binary_warped,undist,left_fit,right_fit):\n",
    "    \n",
    "    # Generate x and y values\n",
    "    ploty = np.linspace(0, binary_warped.shape[0]-1, binary_warped.shape[0] )\n",
    "    left_fitx = get_val(ploty,left_fit)\n",
    "    right_fitx = get_val(ploty,right_fit)\n",
    "    \n",
    "    # Create an image to draw the lines on\n",
    "    warp_zero = np.zeros_like(binary_warped).astype(np.uint8)\n",
    "    color_warp = np.dstack((warp_zero, warp_zero, warp_zero))\n",
    "\n",
    "    # Recast x and y for cv2.fillPoly()\n",
    "    pts_left = np.array([np.transpose(np.vstack([left_fitx, ploty]))])\n",
    "    pts_right = np.array([np.flipud(np.transpose(np.vstack([right_fitx, ploty])))])\n",
    "    pts = np.hstack((pts_left, pts_right))\n",
    "\n",
    "    # Draw the lane \n",
    "    cv.fillPoly(color_warp, np.int_([pts]), (0,255, 0))\n",
    "\n",
    "    # Warp using inverse perspective transform\n",
    "    newwarp = cv.warpPerspective(color_warp, inverse_perspective_transform, (binary_warped.shape[1], binary_warped.shape[0])) \n",
    "    # overlay\n",
    "    #newwarp = cv.cvtColor(newwarp, cv.COLOR_BGR2RGB)\n",
    "    result = cv.addWeighted(undist, 1, newwarp, 0.3, 0)\n",
    "        \n",
    "    return result"
   ]
  },
  {
   "cell_type": "code",
   "execution_count": 837,
   "metadata": {},
   "outputs": [
    {
     "name": "stdout",
     "output_type": "stream",
     "text": [
      "[[290.0 680.0]\n",
      " [638.48 430.0]\n",
      " [661.52 430.0]\n",
      " [1010.0 680.0]]\n"
     ]
    }
   ],
   "source": [
    "print(source_points[index])\n",
    "\n"
   ]
  },
  {
   "cell_type": "code",
   "execution_count": 838,
   "metadata": {},
   "outputs": [
    {
     "data": {
      "image/png": "[encoded data removed]",
      "text/plain": [
       "<Figure size 432x288 with 1 Axes>"
      ]
     },
     "metadata": {
      "needs_background": "light"
     },
     "output_type": "display_data"
    }
   ],
   "source": [
    "colored_lane = lane_fill_poly(birdseye_result, img, left_fit, right_fit)\n",
    "plt.figure()\n",
    "plt.imshow(colored_lane)\n",
    "plt.tight_layout()\n",
    "plt.savefig('saved_figures/lane_polygon.png')"
   ]
  },
  {
   "cell_type": "markdown",
   "metadata": {},
   "source": [
    "---"
   ]
  },
  {
   "cell_type": "markdown",
   "metadata": {},
   "source": [
    "### Determine the lane curvature"
   ]
  },
  {
   "cell_type": "markdown",
   "metadata": {},
   "source": [
    "Now that we have the lanes, we will want to compute the radius of the curvature (i.e. how much the road is curving). This information will be critical later in the end-to-end learning process when we need to create programs that will govern the steering and acceleration of the car. The most important step in this process will be converting our measurements from pixel space to the metric system. The formula for radius of curvature is given as:"
   ]
  },
  {
   "cell_type": "markdown",
   "metadata": {},
   "source": [
    "$$R_{curve}=\\frac{[1+(\\frac{dx}{dy})^2]^\\frac{3}{2}}{|\\frac{d^2x}{dy^2}|}$$"
   ]
  },
  {
   "cell_type": "markdown",
   "metadata": {},
   "source": [
    "Where the second order polynomial $f(y)$ is defined as:"
   ]
  },
  {
   "cell_type": "markdown",
   "metadata": {},
   "source": [
    "$$f(y)=Ay^2+By+C$$"
   ]
  },
  {
   "cell_type": "markdown",
   "metadata": {},
   "source": [
    "Notice that it is $f(y)$ *not* $f(x)$. This is because in the lane lane, there may be more than one $y$ value for any given $x$.The first and second derivatives of $f(y)$ are below:"
   ]
  },
  {
   "cell_type": "markdown",
   "metadata": {},
   "source": [
    "$$f'(y)=\\frac{dx}{dy}=2Ay+B$$"
   ]
  },
  {
   "cell_type": "markdown",
   "metadata": {},
   "source": [
    "$$f''(y)=\\frac{d^2x}{dy^2}=2A$$"
   ]
  },
  {
   "cell_type": "markdown",
   "metadata": {},
   "source": [
    "Which yields the form that will be used in the function below:"
   ]
  },
  {
   "cell_type": "markdown",
   "metadata": {},
   "source": [
    "$$R_{curve}=\\frac{[1+(2Ay+B)^2]^\\frac{3}{2}}{|2A|}$$"
   ]
  },
  {
   "cell_type": "markdown",
   "metadata": {},
   "source": [
    "We will extract coefficients $A$ and $B$ from the polynomials before plugging them into the explicit formula."
   ]
  },
  {
   "cell_type": "code",
   "execution_count": null,
   "metadata": {},
   "outputs": [],
   "source": [
    "def measure_curve(binary_warped,left_fit,right_fit):\n",
    "        \n",
    "    # generate y values \n",
    "    ploty = np.linspace(0, binary_warped.shape[0]-1, binary_warped.shape[0] )\n",
    "    \n",
    "    # measure radius at the maximum y value, or bottom of the image\n",
    "    # this is closest to the car \n",
    "    y_eval = np.max(ploty)\n",
    "    \n",
    "    # coversion rates for pixels to metric\n",
    "    # THIS RATE CAN CHANGE GIVEN THE RESOLUTION OF THE CAMERA!!!!!\n",
    "    # BE SURE TO CHANGE THIS IF USING DIFFERENT SIZE IMAGES!!!\n",
    "    ym_per_pix = 30/720 # meters per pixel in y dimension\n",
    "    xm_per_pix = 3.7/700 # meters per pixel in x dimension\n",
    "   \n",
    "    # x positions lanes\n",
    "    leftx = get_val(ploty,left_fit)\n",
    "    rightx = get_val(ploty,right_fit)\n",
    "\n",
    "    # fit polynomials in metric \n",
    "    left_fit_cr = np.polyfit(ploty*ym_per_pix, leftx*xm_per_pix, 2)\n",
    "    right_fit_cr = np.polyfit(ploty*ym_per_pix, rightx*xm_per_pix, 2)\n",
    "    \n",
    "    # calculate radii in metric from radius of curvature formula\n",
    "    left_curverad = ((1 + (2*left_fit_cr[0]*y_eval*ym_per_pix + left_fit_cr[1])**2)**1.5) / np.absolute(2*left_fit_cr[0])\n",
    "    right_curverad = ((1 + (2*right_fit_cr[0]*y_eval*ym_per_pix + right_fit_cr[1])**2)**1.5) / np.absolute(2*right_fit_cr[0])\n",
    "    \n",
    "    # averaged radius of curvature of left and right in real world space\n",
    "    # should represent approximately the center of the road\n",
    "    curve_rad = round((left_curverad + right_curverad)/2)\n",
    "    \n",
    "    return curve_rad"
   ]
  },
  {
   "cell_type": "code",
   "execution_count": null,
   "metadata": {},
   "outputs": [],
   "source": [
    "measure_curve(birdseye_result,left_fit, right_fit)"
   ]
  },
  {
   "cell_type": "markdown",
   "metadata": {},
   "source": [
    "---"
   ]
  },
  {
   "cell_type": "markdown",
   "metadata": {},
   "source": [
    "### Determining where the vehicle is in the lane"
   ]
  },
  {
   "cell_type": "markdown",
   "metadata": {},
   "source": [
    "It will also be important to know where the vehicle is located relative to the lane. For this project, we are assuming that the camera is mounted in the center of the car."
   ]
  },
  {
   "cell_type": "code",
   "execution_count": null,
   "metadata": {},
   "outputs": [],
   "source": [
    "def vehicle_offset(img,left_fit,right_fit):\n",
    "    \n",
    "    # THIS RATE CAN CHANGE GIVEN THE RESOLUTION OF THE CAMERA!!!!!\n",
    "    # BE SURE TO CHANGE THIS IF USING DIFFERENT SIZE IMAGES!!!\n",
    "    xm_per_pix = 3.7/700 \n",
    "    image_center = img.shape[1]/2\n",
    "    \n",
    "    ## find where lines hit the bottom of the image, closest to the car\n",
    "    left_low = get_val(img.shape[0],left_fit)\n",
    "    right_low = get_val(img.shape[0],right_fit)\n",
    "    \n",
    "    # pixel coordinate for center of lane\n",
    "    lane_center = (left_low+right_low)/2.0\n",
    "    \n",
    "    ## vehicle offset\n",
    "    distance = image_center - lane_center\n",
    "    \n",
    "    ## convert to metric\n",
    "    return (round(distance*xm_per_pix,5))"
   ]
  },
  {
   "cell_type": "code",
   "execution_count": null,
   "metadata": {},
   "outputs": [],
   "source": [
    "offset = vehicle_offset(colored_lane, left_fit, right_fit)\n",
    "print(offset)"
   ]
  },
  {
   "cell_type": "markdown",
   "metadata": {},
   "source": [
    "---"
   ]
  },
  {
   "cell_type": "markdown",
   "metadata": {},
   "source": [
    "## Image Processing Pipeline"
   ]
  },
  {
   "cell_type": "markdown",
   "metadata": {},
   "source": [
    "We have all the components of the pipeline built out. Now, we need to combine them into a single pipeline that will run on video footage. We will make a frame class to keep track of different properties. This will be useful later when we want to smooth out the video processing, much like in the first project. "
   ]
  },
  {
   "cell_type": "code",
   "execution_count": null,
   "metadata": {},
   "outputs": [],
   "source": [
    "def img_pipeline(img):\n",
    "    \n",
    "    global window_search\n",
    "    global left_fit_prev\n",
    "    global right_fit_prev\n",
    "    global frame_count\n",
    "    global curve_radius\n",
    "    global offset\n",
    "        \n",
    "    # load camera matrix and distortion matrix\n",
    "    camera = pickle.load(open( \"camera_matrix.pkl\", \"rb\" ))\n",
    "    mtx = camera['mtx']\n",
    "    dist = camera['dist']\n",
    "    camera_img_size = camera['imagesize']\n",
    "    \n",
    "    #correct lens distortion\n",
    "    undist = distort_correct(img,mtx,dist,camera_img_size)\n",
    "    # get binary image\n",
    "    binary_img = binary_pipeline(undist)\n",
    "\n",
    "    ##########################\n",
    "    # Automated roi creation #\n",
    "    ##########################\n",
    "    #create_roi(binary_img)\n",
    "    #best_roi = rank_hist()\n",
    "\n",
    "\n",
    "\n",
    "    ##########################\n",
    "\n",
    "    #perspective transform\n",
    "    birdseye, inverse_perspective_transform = warp_image(binary_img)\n",
    "    \n",
    "    if window_search:\n",
    "        #window_search = False\n",
    "        #window search\n",
    "        left_fit,right_fit = track_lanes_initialize(birdseye)\n",
    "        #store values\n",
    "        left_fit_prev = left_fit\n",
    "        right_fit_prev = right_fit\n",
    "        \n",
    "    else:\n",
    "        #load values\n",
    "        left_fit = left_fit_prev\n",
    "        right_fit = right_fit_prev\n",
    "        #search in margin of polynomials\n",
    "        left_fit,right_fit,leftx,lefty,rightx,righty = track_lanes_update(birdseye, left_fit,right_fit)\n",
    "    \n",
    "    #save values\n",
    "    left_fit_prev = left_fit\n",
    "    right_fit_prev = right_fit\n",
    "    \n",
    "    #draw polygon\n",
    "    processed_frame = lane_fill_poly(birdseye, undist, left_fit, right_fit)\n",
    "    \n",
    "    #update ~twice per second\n",
    "    if frame_count==0 or frame_count%15==0:\n",
    "        #measure radii\n",
    "        curve_radius = measure_curve(birdseye,left_fit,right_fit)\n",
    "        #measure offset\n",
    "        offset = vehicle_offset(undist, left_fit, right_fit)\n",
    "    \n",
    "        \n",
    "    #printing information to frame\n",
    "    font = cv.FONT_HERSHEY_TRIPLEX\n",
    "    processed_frame = cv.putText(processed_frame, 'Radius: '+str(curve_radius)+' m', (30, 40), font, 1, (0,255,0), 2)\n",
    "    processed_frame = cv.putText(processed_frame, 'Offset: '+str(offset)+' m', (30, 80), font, 1, (0,255,0), 2)\n",
    "   \n",
    "    frame_count += 1\n",
    "    return processed_frame"
   ]
  },
  {
   "cell_type": "markdown",
   "metadata": {},
   "source": [
    "## Let's test it out!\n",
    "### Still Frames"
   ]
  },
  {
   "cell_type": "code",
   "execution_count": null,
   "metadata": {},
   "outputs": [],
   "source": [
    "filenames = os.listdir(\"test_images/\")\n",
    "global window_search\n",
    "global frame_count\n",
    "for filename in filenames:\n",
    "    frame_count = 15\n",
    "    window_search = True\n",
    "    image = mpimg.imread('test_images/'+filename)\n",
    "    lane_image = img_pipeline(image)\n",
    "    mpimg.imsave('output_images/lane_'+filename,lane_image)"
   ]
  },
  {
   "cell_type": "code",
   "execution_count": null,
   "metadata": {},
   "outputs": [],
   "source": [
    "Image('output_images/lane_los_angeles_capture_2_1280x720.jpg')"
   ]
  },
  {
   "cell_type": "markdown",
   "metadata": {},
   "source": [
    "### Video Processing"
   ]
  },
  {
   "cell_type": "code",
   "execution_count": null,
   "metadata": {},
   "outputs": [],
   "source": [
    "from moviepy.video.fx.all import crop"
   ]
  },
  {
   "cell_type": "code",
   "execution_count": null,
   "metadata": {},
   "outputs": [],
   "source": [
    "global window_search \n",
    "global frame_count\n",
    "window_search = True\n",
    "frame_count = 0\n",
    "\n",
    "#chicago footage\n",
    "for filename in ['San Francisco.mp4']:\n",
    "    clip = VideoFileClip('videos/'+filename)#.subclip((3,25),(3,35))\n",
    "    #clip_crop = crop(clip, x1=320, y1=0, x2=1600, y2=720)\n",
    "    out= clip.fl_image(img_pipeline)\n",
    "    #out = clip_crop.fl_image(img_pipeline)\n",
    "    out.write_videofile('output_videos/processed_'+filename, audio=False, verbose=False)\n",
    "    print('Success!')"
   ]
  },
  {
   "cell_type": "code",
   "execution_count": null,
   "metadata": {},
   "outputs": [],
   "source": [
    "video = 'videos/processed_San Francisco.mp4'\n",
    "HTML(\"\"\"\n",
    "<video width=\"960\" height=\"540\" controls>\n",
    "  <source src=\"{0}\">\n",
    "</video>\n",
    "\"\"\".format(video))"
   ]
  },
  {
   "cell_type": "markdown",
   "metadata": {},
   "source": [
    "---"
   ]
  }
 ],
 "metadata": {
  "anaconda-cloud": {},
  "kernelspec": {
   "display_name": "base",
   "language": "python",
   "name": "python3"
  },
  "language_info": {
   "codemirror_mode": {
    "name": "ipython",
    "version": 3
   },
   "file_extension": ".py",
   "mimetype": "text/x-python",
   "name": "python",
   "nbconvert_exporter": "python",
   "pygments_lexer": "ipython3",
   "version": "3.9.12"
  },
  "vscode": {
   "interpreter": {
    "hash": "d3ddb9a339dcfec66cb1d066e0234a99f8d679773fa71ee722ae52c5be71efea"
   }
  }
 },
 "nbformat": 4,
 "nbformat_minor": 1
}
