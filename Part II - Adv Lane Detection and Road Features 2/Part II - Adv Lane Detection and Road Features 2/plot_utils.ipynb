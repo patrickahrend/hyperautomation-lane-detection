{
 "cells": [
  {
   "cell_type": "code",
   "execution_count": 24,
   "metadata": {},
   "outputs": [],
   "source": [
    "import pandas as pd \n",
    "import numpy as np\n",
    "import matplotlib.pyplot as plt\n",
    "import csv \n",
    "import seaborn as sns "
   ]
  },
  {
   "cell_type": "markdown",
   "metadata": {},
   "source": [
    "## Notebook for plotting KPIs"
   ]
  },
  {
   "cell_type": "code",
   "execution_count": 15,
   "metadata": {},
   "outputs": [],
   "source": [
    "# #frame TP     FP     TN     FN\n",
    "# 0\t1970\t17865\t877444\t24321"
   ]
  },
  {
   "cell_type": "code",
   "execution_count": 16,
   "metadata": {},
   "outputs": [],
   "source": [
    "def calculate_accuracy(tp, fp, tn, fn):\n",
    "    return round(tp / (fp + tp + fn), 2)"
   ]
  },
  {
   "cell_type": "code",
   "execution_count": 17,
   "metadata": {},
   "outputs": [],
   "source": [
    "# Read data from the CSV file into a pandas dataframe\n",
    "df = pd.read_csv('./baseline_KPIs/Busan 2.csv', header=None)\n"
   ]
  },
  {
   "cell_type": "code",
   "execution_count": null,
   "metadata": {},
   "outputs": [],
   "source": [
    "# list for all videos and then run for each video \n",
    "# get detect 0 frames in the csv "
   ]
  },
  {
   "cell_type": "code",
   "execution_count": 27,
   "metadata": {},
   "outputs": [],
   "source": [
    "def plot_accuracy_over_time(file_name):\n",
    "    # Read data from the CSV file\n",
    "    df = pd.read_csv(file_name, header=None)\n",
    "\n",
    "    # Calculate accuracy for each row\n",
    "    df['accuracy'] = df.apply(lambda x: calculate_accuracy(x[1], x[2], x[3], x[4]), axis=1)\n",
    "\n",
    "\n",
    "\n",
    "    df.plot(x=0, y='accuracy', kind='line')\n",
    "    plt.xlabel('Frame')\n",
    "    plt.ylabel('Accuracy')\n",
    "    plt.title('Accuracy Over Time')\n",
    "\n",
    "\n",
    "    plt.savefig('accuracy_over_time.png')\n",
    "\n",
    "    plt.show()"
   ]
  },
  {
   "cell_type": "code",
   "execution_count": null,
   "metadata": {},
   "outputs": [],
   "source": []
  }
 ],
 "metadata": {
  "kernelspec": {
   "display_name": "Python 3",
   "language": "python",
   "name": "python3"
  },
  "language_info": {
   "codemirror_mode": {
    "name": "ipython",
    "version": 3
   },
   "file_extension": ".py",
   "mimetype": "text/x-python",
   "name": "python",
   "nbconvert_exporter": "python",
   "pygments_lexer": "ipython3",
   "version": "3.9.12"
  },
  "orig_nbformat": 4,
  "vscode": {
   "interpreter": {
    "hash": "d3ddb9a339dcfec66cb1d066e0234a99f8d679773fa71ee722ae52c5be71efea"
   }
  }
 },
 "nbformat": 4,
 "nbformat_minor": 2
}
